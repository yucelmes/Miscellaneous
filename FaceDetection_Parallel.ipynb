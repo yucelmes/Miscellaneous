{
 "cells": [
  {
   "cell_type": "code",
   "execution_count": null,
   "metadata": {
    "collapsed": false
   },
   "outputs": [],
   "source": [
    "import ipyparallel\n",
    "import numpy as np\n",
    "import glob\n",
    "\n",
    "import FaceBlur"
   ]
  },
  {
   "cell_type": "code",
   "execution_count": null,
   "metadata": {
    "collapsed": false
   },
   "outputs": [],
   "source": [
    "# First start a cluster of n engines on Power Shell\n",
    "# Use this: ipcluster start -n number_of_engines\n",
    "# I recommend number_of_engines=32 as this computer has 32 logical processors.\n",
    "\n",
    "c = ipyparallel.Client()\n",
    "c.ids"
   ]
  },
  {
   "cell_type": "code",
   "execution_count": null,
   "metadata": {
    "collapsed": false
   },
   "outputs": [],
   "source": [
    "# Here FileTest is an examplary source file on Desktop.\n",
    "\n",
    "img_filenames = glob.glob(r'C:\\Users\\Mesut\\Desktop\\FileTest\\*\\*.jpg')\n",
    "\n",
    "%px cd C:\\Users\\Mesut\\Anaconda3\\Final_FaceAndNP\n",
    "chunk_size = int(np.ceil(len(img_filenames) / float(len(c))))\n",
    "split_data = [img_filenames[x:x+chunk_size] for x in range(0, len(img_filenames), chunk_size)]"
   ]
  },
  {
   "cell_type": "code",
   "execution_count": null,
   "metadata": {
    "collapsed": false
   },
   "outputs": [],
   "source": [
    "parallel_process = c[:].map(FaceBlur.process_image, split_data)"
   ]
  },
  {
   "cell_type": "code",
   "execution_count": null,
   "metadata": {
    "collapsed": false,
    "scrolled": false
   },
   "outputs": [],
   "source": [
    "parallel_process.get_dict()"
   ]
  }
 ],
 "metadata": {
  "anaconda-cloud": {},
  "kernelspec": {
   "display_name": "Python [default]",
   "language": "python",
   "name": "python3"
  },
  "language_info": {
   "codemirror_mode": {
    "name": "ipython",
    "version": 3
   },
   "file_extension": ".py",
   "mimetype": "text/x-python",
   "name": "python",
   "nbconvert_exporter": "python",
   "pygments_lexer": "ipython3",
   "version": "3.5.2"
  }
 },
 "nbformat": 4,
 "nbformat_minor": 1
}
