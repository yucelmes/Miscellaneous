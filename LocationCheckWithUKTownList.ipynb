{
 "cells": [
  {
   "cell_type": "code",
   "execution_count": 1,
   "metadata": {
    "collapsed": true
   },
   "outputs": [],
   "source": [
    "import json\n",
    "import ast\n",
    "import pandas as pd\n",
    "import urllib.parse\n",
    "import urllib.request\n",
    "import matplotlib.pyplot as plt\n",
    "\n",
    "%matplotlib inline"
   ]
  },
  {
   "cell_type": "code",
   "execution_count": 2,
   "metadata": {
    "collapsed": false
   },
   "outputs": [],
   "source": [
    "UK_Towns = pd.read_csv(r'.\\Downloads\\uk-towns\\csv\\uk-towns.csv')"
   ]
  },
  {
   "cell_type": "code",
   "execution_count": 6,
   "metadata": {
    "collapsed": false
   },
   "outputs": [
    {
     "data": {
      "text/html": [
       "<div>\n",
       "<table border=\"1\" class=\"dataframe\">\n",
       "  <thead>\n",
       "    <tr style=\"text-align: right;\">\n",
       "      <th></th>\n",
       "      <th>id</th>\n",
       "      <th>name</th>\n",
       "      <th>county</th>\n",
       "      <th>country</th>\n",
       "      <th>grid_reference</th>\n",
       "      <th>easting</th>\n",
       "      <th>northing</th>\n",
       "      <th>latitude</th>\n",
       "      <th>longitude</th>\n",
       "      <th>postcode_sector</th>\n",
       "      <th>local_government_area</th>\n",
       "      <th>nuts_region</th>\n",
       "      <th>type</th>\n",
       "    </tr>\n",
       "  </thead>\n",
       "  <tbody>\n",
       "    <tr>\n",
       "      <th>0</th>\n",
       "      <td>1</td>\n",
       "      <td>Aaron's Hill</td>\n",
       "      <td>Surrey</td>\n",
       "      <td>England</td>\n",
       "      <td>SU957435</td>\n",
       "      <td>495783</td>\n",
       "      <td>143522</td>\n",
       "      <td>51.18291</td>\n",
       "      <td>-0.63098</td>\n",
       "      <td>GU7 2</td>\n",
       "      <td>Waverley District</td>\n",
       "      <td>South East</td>\n",
       "      <td>Suburban Area</td>\n",
       "    </tr>\n",
       "    <tr>\n",
       "      <th>1</th>\n",
       "      <td>2</td>\n",
       "      <td>Abbas Combe</td>\n",
       "      <td>Somerset</td>\n",
       "      <td>England</td>\n",
       "      <td>ST707226</td>\n",
       "      <td>370749</td>\n",
       "      <td>122688</td>\n",
       "      <td>51.00283</td>\n",
       "      <td>-2.41825</td>\n",
       "      <td>BA8 0</td>\n",
       "      <td>South Somerset District</td>\n",
       "      <td>South West</td>\n",
       "      <td>Village</td>\n",
       "    </tr>\n",
       "    <tr>\n",
       "      <th>2</th>\n",
       "      <td>3</td>\n",
       "      <td>Abberley</td>\n",
       "      <td>Worcestershire</td>\n",
       "      <td>England</td>\n",
       "      <td>SO744675</td>\n",
       "      <td>374477</td>\n",
       "      <td>267522</td>\n",
       "      <td>52.30522</td>\n",
       "      <td>-2.37574</td>\n",
       "      <td>WR6 6</td>\n",
       "      <td>Malvern Hills District</td>\n",
       "      <td>West Midlands</td>\n",
       "      <td>Village</td>\n",
       "    </tr>\n",
       "    <tr>\n",
       "      <th>3</th>\n",
       "      <td>4</td>\n",
       "      <td>Abberton</td>\n",
       "      <td>Essex</td>\n",
       "      <td>England</td>\n",
       "      <td>TM006190</td>\n",
       "      <td>600637</td>\n",
       "      <td>219093</td>\n",
       "      <td>51.83440</td>\n",
       "      <td>0.91066</td>\n",
       "      <td>CO5 7</td>\n",
       "      <td>Colchester District</td>\n",
       "      <td>Eastern</td>\n",
       "      <td>Village</td>\n",
       "    </tr>\n",
       "    <tr>\n",
       "      <th>4</th>\n",
       "      <td>5</td>\n",
       "      <td>Abberton</td>\n",
       "      <td>Worcestershire</td>\n",
       "      <td>England</td>\n",
       "      <td>SO995534</td>\n",
       "      <td>399538</td>\n",
       "      <td>253477</td>\n",
       "      <td>52.17955</td>\n",
       "      <td>-2.00817</td>\n",
       "      <td>WR10 2</td>\n",
       "      <td>Wychavon District</td>\n",
       "      <td>West Midlands</td>\n",
       "      <td>Hamlet</td>\n",
       "    </tr>\n",
       "  </tbody>\n",
       "</table>\n",
       "</div>"
      ],
      "text/plain": [
       "   id          name          county  country grid_reference  easting  \\\n",
       "0   1  Aaron's Hill          Surrey  England       SU957435   495783   \n",
       "1   2   Abbas Combe        Somerset  England       ST707226   370749   \n",
       "2   3      Abberley  Worcestershire  England       SO744675   374477   \n",
       "3   4      Abberton           Essex  England       TM006190   600637   \n",
       "4   5      Abberton  Worcestershire  England       SO995534   399538   \n",
       "\n",
       "   northing  latitude  longitude postcode_sector    local_government_area  \\\n",
       "0    143522  51.18291   -0.63098           GU7 2        Waverley District   \n",
       "1    122688  51.00283   -2.41825           BA8 0  South Somerset District   \n",
       "2    267522  52.30522   -2.37574           WR6 6   Malvern Hills District   \n",
       "3    219093  51.83440    0.91066           CO5 7      Colchester District   \n",
       "4    253477  52.17955   -2.00817          WR10 2        Wychavon District   \n",
       "\n",
       "     nuts_region           type  \n",
       "0     South East  Suburban Area  \n",
       "1     South West        Village  \n",
       "2  West Midlands        Village  \n",
       "3        Eastern        Village  \n",
       "4  West Midlands         Hamlet  "
      ]
     },
     "execution_count": 6,
     "metadata": {},
     "output_type": "execute_result"
    }
   ],
   "source": [
    "UK_Towns.head()"
   ]
  },
  {
   "cell_type": "code",
   "execution_count": 4,
   "metadata": {
    "collapsed": false
   },
   "outputs": [],
   "source": [
    "UK_Lat_Bounds = [49.86, 60.86]\n",
    "UK_Long_Bounds = [-8.45, 1.78]"
   ]
  },
  {
   "cell_type": "code",
   "execution_count": 17,
   "metadata": {
    "collapsed": false
   },
   "outputs": [],
   "source": [
    "UniqueUserUKLocations = {}\n",
    "\n",
    "with open(r'.\\Downloads\\locs.json') as f:\n",
    "    for line in f:\n",
    "        line_data = json.loads(line)\n",
    "        UserID = line_data['userId']\n",
    "        Coords = line_data['loc']['coordinates']\n",
    "        \n",
    "        if not UserID in UniqueUserUKLocations.keys():\n",
    "            if (UK_Lat_Bounds[0] <= Coords[1] <= UK_Lat_Bounds[1]) & (UK_Long_Bounds[0] <= Coords[0] <= UK_Long_Bounds[1]):\n",
    "                UniqueUserUKLocations[UserID] = Coords"
   ]
  },
  {
   "cell_type": "code",
   "execution_count": 19,
   "metadata": {
    "collapsed": false
   },
   "outputs": [
    {
     "data": {
      "text/plain": [
       "[-1.481044469187128, 53.0016376403971]"
      ]
     },
     "execution_count": 19,
     "metadata": {},
     "output_type": "execute_result"
    }
   ],
   "source": [
    "UniqueUserUKLocations[list(UniqueUserUKLocations.keys())[0]]"
   ]
  },
  {
   "cell_type": "code",
   "execution_count": 20,
   "metadata": {
    "collapsed": true
   },
   "outputs": [],
   "source": [
    "long, lat = UniqueUserUKLocations[list(UniqueUserUKLocations.keys())[0]]"
   ]
  },
  {
   "cell_type": "code",
   "execution_count": 30,
   "metadata": {
    "collapsed": false
   },
   "outputs": [
    {
     "data": {
      "text/plain": [
       "id                                       28451\n",
       "name                                   Milford\n",
       "county                              Derbyshire\n",
       "country                                England\n",
       "grid_reference                        SK351451\n",
       "easting                                 435127\n",
       "northing                                345116\n",
       "latitude                               53.0022\n",
       "longitude                             -1.47801\n",
       "postcode_sector                         DE56 0\n",
       "local_government_area    Amber Valley District\n",
       "nuts_region                      East Midlands\n",
       "type                                   Village\n",
       "Name: 28450, dtype: object"
      ]
     },
     "execution_count": 30,
     "metadata": {},
     "output_type": "execute_result"
    }
   ],
   "source": [
    "UK_Towns.loc[((UK_Towns['latitude'] - lat)**2 + (UK_Towns['longitude'] - long)**2).argmin()]"
   ]
  },
  {
   "cell_type": "code",
   "execution_count": 35,
   "metadata": {
    "collapsed": true
   },
   "outputs": [],
   "source": [
    "UserLocs = pd.DataFrame(columns=['User ID', 'County', 'Local Gov Area', 'Country'])\n",
    "i = 0\n",
    "\n",
    "for UserID in UniqueUserUKLocations.keys():\n",
    "    Long, Lat = UniqueUserUKLocations[UserID]\n",
    "    LocData = UK_Towns.loc[((UK_Towns['latitude'] - Lat)**2 + (UK_Towns['longitude'] - Long)**2).argmin()]\n",
    "    \n",
    "    UserLocs.loc[i] = [UserID, LocData['county'], LocData['local_government_area'], LocData['country']]\n",
    "    i += 1"
   ]
  },
  {
   "cell_type": "code",
   "execution_count": null,
   "metadata": {
    "collapsed": false
   },
   "outputs": [],
   "source": []
  },
  {
   "cell_type": "code",
   "execution_count": 41,
   "metadata": {
    "collapsed": false
   },
   "outputs": [
    {
     "data": {
      "text/html": [
       "<div>\n",
       "<table border=\"1\" class=\"dataframe\">\n",
       "  <thead>\n",
       "    <tr style=\"text-align: right;\">\n",
       "      <th></th>\n",
       "      <th>User ID</th>\n",
       "      <th>County</th>\n",
       "      <th>Local Gov Area</th>\n",
       "      <th>Country</th>\n",
       "    </tr>\n",
       "  </thead>\n",
       "  <tbody>\n",
       "    <tr>\n",
       "      <th>0</th>\n",
       "      <td>73888</td>\n",
       "      <td>Derbyshire</td>\n",
       "      <td>Amber Valley District</td>\n",
       "      <td>England</td>\n",
       "    </tr>\n",
       "    <tr>\n",
       "      <th>1</th>\n",
       "      <td>53511</td>\n",
       "      <td>Dorset</td>\n",
       "      <td>North Dorset District</td>\n",
       "      <td>England</td>\n",
       "    </tr>\n",
       "    <tr>\n",
       "      <th>2</th>\n",
       "      <td>81056</td>\n",
       "      <td>Lancashire</td>\n",
       "      <td>Burnley District</td>\n",
       "      <td>England</td>\n",
       "    </tr>\n",
       "    <tr>\n",
       "      <th>3</th>\n",
       "      <td>62156</td>\n",
       "      <td>West Midlands</td>\n",
       "      <td>Birmingham District</td>\n",
       "      <td>England</td>\n",
       "    </tr>\n",
       "    <tr>\n",
       "      <th>4</th>\n",
       "      <td>37916</td>\n",
       "      <td>Hertfordshire</td>\n",
       "      <td>Hertsmere District</td>\n",
       "      <td>England</td>\n",
       "    </tr>\n",
       "    <tr>\n",
       "      <th>5</th>\n",
       "      <td>61558</td>\n",
       "      <td>West Midlands</td>\n",
       "      <td>Solihull District</td>\n",
       "      <td>England</td>\n",
       "    </tr>\n",
       "    <tr>\n",
       "      <th>6</th>\n",
       "      <td>50934</td>\n",
       "      <td>Norfolk</td>\n",
       "      <td>King's Lynn and West Norfolk District</td>\n",
       "      <td>England</td>\n",
       "    </tr>\n",
       "    <tr>\n",
       "      <th>7</th>\n",
       "      <td>41938</td>\n",
       "      <td>Devon</td>\n",
       "      <td>East Devon District</td>\n",
       "      <td>England</td>\n",
       "    </tr>\n",
       "    <tr>\n",
       "      <th>8</th>\n",
       "      <td>50433</td>\n",
       "      <td>Greater Manchester</td>\n",
       "      <td>Stockport District</td>\n",
       "      <td>England</td>\n",
       "    </tr>\n",
       "    <tr>\n",
       "      <th>9</th>\n",
       "      <td>96607</td>\n",
       "      <td>Tyne and Wear</td>\n",
       "      <td>Newcastle upon Tyne District</td>\n",
       "      <td>England</td>\n",
       "    </tr>\n",
       "  </tbody>\n",
       "</table>\n",
       "</div>"
      ],
      "text/plain": [
       "  User ID              County                         Local Gov Area  Country\n",
       "0   73888          Derbyshire                  Amber Valley District  England\n",
       "1   53511              Dorset                  North Dorset District  England\n",
       "2   81056          Lancashire                       Burnley District  England\n",
       "3   62156       West Midlands                    Birmingham District  England\n",
       "4   37916       Hertfordshire                     Hertsmere District  England\n",
       "5   61558       West Midlands                      Solihull District  England\n",
       "6   50934             Norfolk  King's Lynn and West Norfolk District  England\n",
       "7   41938               Devon                    East Devon District  England\n",
       "8   50433  Greater Manchester                     Stockport District  England\n",
       "9   96607       Tyne and Wear           Newcastle upon Tyne District  England"
      ]
     },
     "execution_count": 41,
     "metadata": {},
     "output_type": "execute_result"
    }
   ],
   "source": [
    "UserLocs.head(10)"
   ]
  },
  {
   "cell_type": "code",
   "execution_count": 49,
   "metadata": {
    "collapsed": false
   },
   "outputs": [
    {
     "data": {
      "text/plain": [
       "Country\n",
       "England             32813\n",
       "Scotland             2479\n",
       "Wales                1404\n",
       "Northern Ireland      751\n",
       "Isle of Man            13\n",
       "dtype: int64"
      ]
     },
     "execution_count": 49,
     "metadata": {},
     "output_type": "execute_result"
    }
   ],
   "source": [
    "UserLocs.groupby(['Country']).size().sort_values(ascending=False)"
   ]
  },
  {
   "cell_type": "code",
   "execution_count": 50,
   "metadata": {
    "collapsed": false
   },
   "outputs": [
    {
     "data": {
      "text/plain": [
       "County\n",
       "Greater London                      6841\n",
       "West Midlands                       1733\n",
       "Greater Manchester                  1567\n",
       "West Yorkshire                      1234\n",
       "Hampshire                           1081\n",
       "Essex                               1047\n",
       "Kent                                1021\n",
       "Hertfordshire                        852\n",
       "Surrey                               738\n",
       "Lancashire                           738\n",
       "South Yorkshire                      720\n",
       "Nottinghamshire                      709\n",
       "Merseyside                           691\n",
       "Leicestershire                       669\n",
       "Tyne and Wear                        637\n",
       "North Yorkshire                      634\n",
       "Devon                                602\n",
       "Buckinghamshire                      591\n",
       "Berkshire                            579\n",
       "Dorset                               561\n",
       "Somerset                             553\n",
       "Cheshire                             553\n",
       "Derbyshire                           551\n",
       "Staffordshire                        515\n",
       "East Sussex                          500\n",
       "Cambridgeshire                       482\n",
       "West Sussex                          468\n",
       "Norfolk                              455\n",
       "Northamptonshire                     451\n",
       "Gloucestershire                      442\n",
       "                                    ... \n",
       "City of London                        71\n",
       "Isle of Wight                         65\n",
       "County Tyrone                         60\n",
       "Perth and Kinross                     52\n",
       "Midlothian                            50\n",
       "East Lothian                          47\n",
       "Angus                                 46\n",
       "Powys                                 46\n",
       "Inverness                             41\n",
       "Kincardineshire                       23\n",
       "Moray                                 23\n",
       "Clackmannan                           22\n",
       "Roxburgh, Ettrick and Lauderdale      21\n",
       "Dumfries                              21\n",
       "Ross and Cromarty                     17\n",
       "Argyll and Bute                       16\n",
       "Rutland                               15\n",
       "Isle of Man                           13\n",
       "County Fermanagh                      11\n",
       "Banffshire                             9\n",
       "Shetland                               9\n",
       "Wigtown                                9\n",
       "Western Isles                          9\n",
       "Nairn                                  6\n",
       "Caithness                              6\n",
       "Sutherland                             4\n",
       "Berwickshire                           3\n",
       "Tweeddale                              3\n",
       "Orkney                                 3\n",
       "The Stewartry of Kirkcudbright         3\n",
       "dtype: int64"
      ]
     },
     "execution_count": 50,
     "metadata": {},
     "output_type": "execute_result"
    }
   ],
   "source": [
    "UserLocs.groupby(['County']).size().sort_values(ascending=False)"
   ]
  },
  {
   "cell_type": "code",
   "execution_count": 51,
   "metadata": {
    "collapsed": false
   },
   "outputs": [
    {
     "data": {
      "text/plain": [
       "Local Gov Area\n",
       "Birmingham District                772\n",
       "Leeds District                     476\n",
       "Glasgow City                       388\n",
       "Manchester District                358\n",
       "Croydon                            352\n",
       "Sheffield District                 341\n",
       "Camden                             319\n",
       "City of Leicester                  304\n",
       "City of Edinburgh                  304\n",
       "Tower Hamlets                      297\n",
       "Bradford District                  294\n",
       "Barnet                             294\n",
       "Brent                              292\n",
       "City of Bristol                    287\n",
       "Newham                             282\n",
       "City of Nottingham                 274\n",
       "City of Westminster                271\n",
       "Ealing                             267\n",
       "Liverpool District                 262\n",
       "Cornwall                           259\n",
       "Wandsworth                         257\n",
       "Wiltshire                          256\n",
       "Bromley                            252\n",
       "Enfield                            248\n",
       "County Durham                      245\n",
       "Southwark                          244\n",
       "Coventry District                  232\n",
       "Cardiff / Caerdydd                 230\n",
       "Kirklees District                  228\n",
       "Lambeth                            221\n",
       "                                  ... \n",
       "Richmondshire District              28\n",
       "Ribble Valley District              28\n",
       "Cotswold District                   27\n",
       "Isle of Anglesey / Sir Ynys Mon     27\n",
       "North Dorset District               27\n",
       "Scottish Borders                    27\n",
       "Argyll and Bute                     26\n",
       "High Peak District                  26\n",
       "Boston District                     26\n",
       "Forest Heath District               25\n",
       "Barrow-in-Furness District          24\n",
       "Adur District                       24\n",
       "Blaenau Gwent                       24\n",
       "Purbeck District                    23\n",
       "Inverclyde                          22\n",
       "Clackmannanshire                    22\n",
       "Bolsover District                   21\n",
       "Copeland District                   20\n",
       "Melton District                     19\n",
       "West Devon District                 18\n",
       "Craven District                     17\n",
       "Rutland                             15\n",
       "Merthyr Tydfil / Merthyr Tudful     14\n",
       "Eden District                       13\n",
       "Isle of Man                         13\n",
       "Torridge District                   13\n",
       "West Somerset District              13\n",
       "Na h-Eileanan an Iar                 9\n",
       "Shetland Islands                     9\n",
       "Orkney Islands                       3\n",
       "dtype: int64"
      ]
     },
     "execution_count": 51,
     "metadata": {},
     "output_type": "execute_result"
    }
   ],
   "source": [
    "UserLocs.groupby(['Local Gov Area']).size().sort_values(ascending=False)"
   ]
  },
  {
   "cell_type": "code",
   "execution_count": null,
   "metadata": {
    "collapsed": true
   },
   "outputs": [],
   "source": []
  }
 ],
 "metadata": {
  "anaconda-cloud": {},
  "kernelspec": {
   "display_name": "Python [default]",
   "language": "python",
   "name": "python3"
  },
  "language_info": {
   "codemirror_mode": {
    "name": "ipython",
    "version": 3
   },
   "file_extension": ".py",
   "mimetype": "text/x-python",
   "name": "python",
   "nbconvert_exporter": "python",
   "pygments_lexer": "ipython3",
   "version": "3.5.2"
  }
 },
 "nbformat": 4,
 "nbformat_minor": 1
}
