{
 "cells": [
  {
   "cell_type": "code",
   "execution_count": 1,
   "metadata": {
    "collapsed": true
   },
   "outputs": [],
   "source": [
    "import json\n",
    "import ast\n",
    "import pandas as pd\n",
    "import urllib.parse\n",
    "import urllib.request\n",
    "import matplotlib.pyplot as plt\n",
    "\n",
    "%matplotlib inline"
   ]
  },
  {
   "cell_type": "code",
   "execution_count": 2,
   "metadata": {
    "collapsed": true
   },
   "outputs": [],
   "source": [
    "UserLocations = {}\n",
    "\n",
    "with open(r'.\\Downloads\\locs.json') as f:\n",
    "    for line in f:\n",
    "        line_data = json.loads(line)\n",
    "        UserID = line_data['userId']\n",
    "        Coords = line_data['loc']['coordinates']\n",
    "        \n",
    "        if not UserID in UserLocations.keys():\n",
    "            UserLocations[UserID] = [Coords]\n",
    "        else:\n",
    "            UserLocations[UserID].append(Coords)"
   ]
  },
  {
   "cell_type": "code",
   "execution_count": 3,
   "metadata": {
    "collapsed": false
   },
   "outputs": [
    {
     "data": {
      "text/plain": [
       "[[-0.8317916523342789, 52.275903727206],\n",
       " [-0.8319975594754804, 52.27609622484918],\n",
       " [-0.8320931382897047, 52.2761143561158],\n",
       " [-0.8320896771993802, 52.27611143143942],\n",
       " [-0.8320929864357905, 52.27611166350752]]"
      ]
     },
     "execution_count": 3,
     "metadata": {},
     "output_type": "execute_result"
    }
   ],
   "source": [
    "UserLocations[list(UserLocations.keys())[0]][:5]"
   ]
  },
  {
   "cell_type": "code",
   "execution_count": 4,
   "metadata": {
    "collapsed": false
   },
   "outputs": [],
   "source": [
    "UniqueUserLocations = {}\n",
    "\n",
    "with open(r'.\\Downloads\\locs.json') as f:\n",
    "    for line in f:\n",
    "        line_data = json.loads(line)\n",
    "        UserID = line_data['userId']\n",
    "        Coords = line_data['loc']['coordinates']\n",
    "        \n",
    "        if not UserID in UniqueUserLocations.keys():\n",
    "            UniqueUserLocations[UserID] = [Coords]"
   ]
  },
  {
   "cell_type": "code",
   "execution_count": 5,
   "metadata": {
    "collapsed": false
   },
   "outputs": [
    {
     "data": {
      "text/plain": [
       "{'coordinates': [-1.4286871, 51.7243597], 'type': 'Point'}"
      ]
     },
     "execution_count": 5,
     "metadata": {},
     "output_type": "execute_result"
    }
   ],
   "source": [
    "line_data['loc']"
   ]
  },
  {
   "cell_type": "code",
   "execution_count": 6,
   "metadata": {
    "collapsed": false
   },
   "outputs": [
    {
     "data": {
      "text/plain": [
       "[[-0.8317916523342789, 52.275903727206]]"
      ]
     },
     "execution_count": 6,
     "metadata": {},
     "output_type": "execute_result"
    }
   ],
   "source": [
    "UniqueUserLocations[list(UniqueUserLocations.keys())[0]]"
   ]
  },
  {
   "cell_type": "code",
   "execution_count": 7,
   "metadata": {
    "collapsed": false
   },
   "outputs": [],
   "source": [
    "api_key = '###'\n",
    "UserLocs = pd.DataFrame(columns=['User ID', 'Address'])\n",
    "i = 0\n",
    "\n",
    "UserLocations = UniqueUserLocations\n",
    "\n",
    "for UserID in list(UserLocations.keys())[:500]:\n",
    "    \n",
    "    Coords = UserLocations[UserID]\n",
    "    \n",
    "    for Coord in Coords:\n",
    "        \n",
    "        url = 'https://maps.googleapis.com/maps/api/geocode/json?latlng=' + str(Coord[1]) + ',' + str(Coord[0]) + '&key=' + api_key\n",
    "        \n",
    "        try:\n",
    "            response = urllib.request.urlopen(url)\n",
    "            the_page = response.read()\n",
    "            the_page = the_page.decode('utf-8')\n",
    "            the_page = ast.literal_eval(the_page)\n",
    "            address = the_page['results'][0]['formatted_address']\n",
    "            UserLocs.loc[i] = [UserID, address]\n",
    "            i += 1\n",
    "\n",
    "            if not i%50:\n",
    "                print('Record No: {}\\nAddress: {}\\n'.format(i, address))\n",
    "        \n",
    "        except:\n",
    "            continue"
   ]
  },
  {
   "cell_type": "code",
   "execution_count": 12,
   "metadata": {
    "collapsed": false
   },
   "outputs": [
    {
     "data": {
      "text/plain": [
       "{'error_message': 'You have exceeded your daily request quota for this API.',\n",
       " 'results': [],\n",
       " 'status': 'OVER_QUERY_LIMIT'}"
      ]
     },
     "execution_count": 12,
     "metadata": {},
     "output_type": "execute_result"
    }
   ],
   "source": [
    "the_page"
   ]
  },
  {
   "cell_type": "code",
   "execution_count": 8,
   "metadata": {
    "collapsed": false
   },
   "outputs": [
    {
     "data": {
      "text/html": [
       "<div>\n",
       "<table border=\"1\" class=\"dataframe\">\n",
       "  <thead>\n",
       "    <tr style=\"text-align: right;\">\n",
       "      <th></th>\n",
       "      <th>User ID</th>\n",
       "      <th>Address</th>\n",
       "    </tr>\n",
       "  </thead>\n",
       "  <tbody>\n",
       "  </tbody>\n",
       "</table>\n",
       "</div>"
      ],
      "text/plain": [
       "Empty DataFrame\n",
       "Columns: [User ID, Address]\n",
       "Index: []"
      ]
     },
     "execution_count": 8,
     "metadata": {},
     "output_type": "execute_result"
    }
   ],
   "source": [
    "UserLocs.head()"
   ]
  },
  {
   "cell_type": "code",
   "execution_count": 9,
   "metadata": {
    "collapsed": false
   },
   "outputs": [
    {
     "ename": "IndexError",
     "evalue": "list index out of range",
     "output_type": "error",
     "traceback": [
      "\u001b[0;31m---------------------------------------------------------------------------\u001b[0m",
      "\u001b[0;31mIndexError\u001b[0m                                Traceback (most recent call last)",
      "\u001b[0;32m<ipython-input-9-ed4f7268ca65>\u001b[0m in \u001b[0;36m<module>\u001b[0;34m()\u001b[0m\n\u001b[0;32m----> 1\u001b[0;31m \u001b[0mthe_page\u001b[0m\u001b[1;33m[\u001b[0m\u001b[1;34m'results'\u001b[0m\u001b[1;33m]\u001b[0m\u001b[1;33m[\u001b[0m\u001b[1;36m0\u001b[0m\u001b[1;33m]\u001b[0m\u001b[1;33m[\u001b[0m\u001b[1;34m'formatted_address'\u001b[0m\u001b[1;33m]\u001b[0m\u001b[1;33m\u001b[0m\u001b[0m\n\u001b[0m",
      "\u001b[0;31mIndexError\u001b[0m: list index out of range"
     ]
    }
   ],
   "source": [
    "the_page['results'][0]['formatted_address']"
   ]
  },
  {
   "cell_type": "code",
   "execution_count": null,
   "metadata": {
    "collapsed": false
   },
   "outputs": [],
   "source": [
    "the_page['results'][0].keys()"
   ]
  },
  {
   "cell_type": "code",
   "execution_count": null,
   "metadata": {
    "collapsed": false
   },
   "outputs": [],
   "source": [
    "the_page['results'][0]['address_components'][4]"
   ]
  },
  {
   "cell_type": "code",
   "execution_count": null,
   "metadata": {
    "collapsed": false
   },
   "outputs": [],
   "source": [
    "the_page['results'][0]['address_components'][5]"
   ]
  },
  {
   "cell_type": "code",
   "execution_count": null,
   "metadata": {
    "collapsed": false
   },
   "outputs": [],
   "source": [
    "the_page['results'][0]['address_components'][6]"
   ]
  },
  {
   "cell_type": "code",
   "execution_count": null,
   "metadata": {
    "collapsed": false
   },
   "outputs": [],
   "source": [
    "%timeit UserLocs.append({'User ID' : 0, 'Address' : 'Selam'}, ignore_index=True)"
   ]
  },
  {
   "cell_type": "code",
   "execution_count": null,
   "metadata": {
    "collapsed": false
   },
   "outputs": [],
   "source": [
    "%timeit UserLocs.loc[2] = [0, 'Selam']"
   ]
  },
  {
   "cell_type": "code",
   "execution_count": null,
   "metadata": {
    "collapsed": true
   },
   "outputs": [],
   "source": []
  }
 ],
 "metadata": {
  "anaconda-cloud": {},
  "kernelspec": {
   "display_name": "Python [default]",
   "language": "python",
   "name": "python3"
  },
  "language_info": {
   "codemirror_mode": {
    "name": "ipython",
    "version": 3
   },
   "file_extension": ".py",
   "mimetype": "text/x-python",
   "name": "python",
   "nbconvert_exporter": "python",
   "pygments_lexer": "ipython3",
   "version": "3.5.2"
  }
 },
 "nbformat": 4,
 "nbformat_minor": 1
}
