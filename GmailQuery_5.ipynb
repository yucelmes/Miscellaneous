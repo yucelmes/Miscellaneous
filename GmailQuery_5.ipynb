{
 "cells": [
  {
   "cell_type": "code",
   "execution_count": null,
   "metadata": {
    "collapsed": false
   },
   "outputs": [],
   "source": [
    "# pip install ipython-sql\n",
    "\n",
    "%load_ext sql\n",
    "%sql postgresql://###"
   ]
  },
  {
   "cell_type": "code",
   "execution_count": null,
   "metadata": {
    "collapsed": false
   },
   "outputs": [],
   "source": [
    "df= %sql select user_emails.user_id, user_emails.email, gmail_accounts.refresh_token from user_emails inner join gmail_accounts on user_emails.user_id = gmail_accounts.user_id where gmail_accounts.refresh_token <> 'None'\n",
    "df = df.DataFrame()"
   ]
  },
  {
   "cell_type": "code",
   "execution_count": null,
   "metadata": {
    "collapsed": true
   },
   "outputs": [],
   "source": [
    "from oauth2client.client import GoogleCredentials\n",
    "from apiclient import discovery\n",
    "import pandas as pd\n",
    "import json\n",
    "import re"
   ]
  },
  {
   "cell_type": "code",
   "execution_count": null,
   "metadata": {
    "collapsed": false,
    "scrolled": true
   },
   "outputs": [],
   "source": [
    "SCOPES = 'https://www.googleapis.com/auth/gmail.readonly'\n",
    "CLIENT_SECRET_FILE = '###.json'\n",
    "APPLICATION_NAME = 'Gmail API Python Quickstart'\n",
    "CLIENT_ID = ###\n",
    "CLIENT_SECRET = '###'\n",
    "TOKEN_URI = 'https://accounts.google.com/o/oauth2/token'\n",
    "USER_AGENT = '###'\n",
    "\n",
    "\n",
    "DomainSubjectCounts = {}\n",
    "n = 0\n",
    "\n",
    "for idx, (User_ID, _, REFRESH_TOKEN) in df.iterrows():\n",
    "\n",
    "    try:\n",
    "        credentials = GoogleCredentials(None, CLIENT_ID, CLIENT_SECRET, REFRESH_TOKEN, None, TOKEN_URI, USER_AGENT)\n",
    "        service = discovery.build('gmail', 'v1', credentials=credentials)\n",
    "        user_messages = service.users().messages().list(userId='me').execute()\n",
    "        \n",
    "        \n",
    "        for message in user_messages.get('messages', []):\n",
    "            \n",
    "            msg = service.users().messages().get(userId='me', id=message['id'], format='metadata').execute()\n",
    "            \n",
    "            FromSubject = {}\n",
    "            for header in msg['payload']['headers']:\n",
    "                if (header['name'] == 'From') | (header['name'] == 'Subject'):\n",
    "                    FromSubject[header['name']] = re.sub(r'[^\\x00-\\x7f]', r' ', header['value']).lower()\n",
    "                    if len(FromSubject) > 1:\n",
    "                        break\n",
    "            \n",
    "            new_domain = FromSubject['From']\n",
    "            new_subject = FromSubject['Subject']\n",
    "            \n",
    "            \n",
    "            if new_domain in DomainSubjectCounts:\n",
    "                if new_subject in DomainSubjectCounts[new_domain]:\n",
    "                    DomainSubjectCounts[new_domain][new_subject] += 1\n",
    "                else:\n",
    "                    DomainSubjectCounts[new_domain][new_subject] = 1\n",
    "            else:\n",
    "                DomainSubjectCounts[new_domain] = {new_subject : 1}\n",
    "            \n",
    "                \n",
    "        n += 1\n",
    "        print('{}/{} Users: Analysed!'.format(n, idx+1))\n",
    "        \n",
    "        \n",
    "        if not len(DomainSubjectCounts) % 500:\n",
    "            with open(r'.\\Desktop\\DomainSubjectCounts.txt', 'w') as txtFile:\n",
    "                json.dump(DomainSubjectCounts, txtFile)\n",
    "                \n",
    "    except:\n",
    "        continue"
   ]
  },
  {
   "cell_type": "code",
   "execution_count": null,
   "metadata": {
    "collapsed": true
   },
   "outputs": [],
   "source": []
  }
 ],
 "metadata": {
  "anaconda-cloud": {},
  "kernelspec": {
   "display_name": "Python [default]",
   "language": "python",
   "name": "python3"
  },
  "language_info": {
   "codemirror_mode": {
    "name": "ipython",
    "version": 3
   },
   "file_extension": ".py",
   "mimetype": "text/x-python",
   "name": "python",
   "nbconvert_exporter": "python",
   "pygments_lexer": "ipython3",
   "version": "3.5.2"
  }
 },
 "nbformat": 4,
 "nbformat_minor": 1
}
