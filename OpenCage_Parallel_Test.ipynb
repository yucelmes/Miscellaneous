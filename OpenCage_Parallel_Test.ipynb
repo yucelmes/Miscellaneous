{
 "cells": [
  {
   "cell_type": "code",
   "execution_count": 1,
   "metadata": {
    "collapsed": true
   },
   "outputs": [],
   "source": [
    "import json\n",
    "import pandas as pd\n",
    "import urllib.parse\n",
    "import urllib.request\n",
    "from bson import ObjectId\n",
    "from pymongo import MongoClient\n",
    "from geopy.distance import VincentyDistance\n",
    "from joblib import Parallel, delayed\n",
    "import multiprocessing\n",
    "\n",
    "\n",
    "num_cores = multiprocessing.cpu_count()\n",
    "\n",
    "\n",
    "client = MongoClient('mongodb://ec2-34-248-97-137.eu-west-1.compute.amazonaws.com:27017')\n",
    "db = client['C8Geo']\n",
    "collection = db['locations']\n",
    "\n",
    "url = 'https://api.opencagedata.com/geocode/v1/json?q='\n",
    "api_key = '&pretty=1&key=c2cea158878d4b51a79fd9aed4495e72'"
   ]
  },
  {
   "cell_type": "code",
   "execution_count": 3,
   "metadata": {
    "collapsed": false
   },
   "outputs": [],
   "source": [
    "ObjectIdList = json.load(open(r'./Desktop/ChosenObjectIds.json'))\n",
    "#ObjectIdList = [ObjectId(Object) for Object in ObjectIdList]"
   ]
  },
  {
   "cell_type": "code",
   "execution_count": null,
   "metadata": {
    "collapsed": true
   },
   "outputs": [],
   "source": [
    "def Test(ObjectIdList_Part):\n",
    "\n",
    "    for doc in collection.find({ 'opencage' : { '$exists' : False}, '_id' : { '$in' : ObjectIdList_Part}}):\n",
    "\n",
    "        LatLong = str(doc['_source']['coords']['latitude']) + ',' + str(doc['_source']['coords']['longitude'] )\n",
    "        Response = urllib.request.urlopen(url + LatLong + api_key)\n",
    "        Response = Response.read()\n",
    "        Response = Response.decode('utf-8')   \n",
    "        Response = json.loads(Response)\n",
    "\n",
    "        OpenCage = {\n",
    "            'type' : Response['results'][0]['components'].get('_type', '').upper(),\n",
    "            'city' : Response['results'][0]['components'].get('city', ''),\n",
    "            'country' : Response['results'][0]['components'].get('country', ''),\n",
    "            'countrycode' : Response['results'][0]['components'].get('country_code', '').upper(),\n",
    "            'county' : Response['results'][0]['components'].get('county', ''),\n",
    "            'formattedaddress' : Response['results'][0].get('formatted', ''),\n",
    "            'housenumber' : Response['results'][0]['components'].get('housenumber', ''),\n",
    "            'postcode' : Response['results'][0]['components'].get('postcode', ''),\n",
    "            'state' : Response['results'][0]['components'].get('state', ''),\n",
    "            'statedistrict' : Response['results'][0]['components'].get('state_district', ''),\n",
    "            'street' : Response['results'][0]['components'].get('road', ''),\n",
    "            'suburb' : Response['results'][0]['components'].get('suburb', '')\n",
    "        }\n",
    "\n",
    "        doc['opencage'] = OpenCage\n",
    "        #db.collection.update_one({ '_id' : doc['_id']}, { '$set' : { 'opencage' : OpenCage }})\n",
    "        #collection.save(doc)\n",
    "        print(OpenCage)\n",
    "    return "
   ]
  },
  {
   "cell_type": "code",
   "execution_count": null,
   "metadata": {
    "collapsed": false
   },
   "outputs": [],
   "source": [
    "Test(ObjectIdList[:1])"
   ]
  },
  {
   "cell_type": "code",
   "execution_count": null,
   "metadata": {
    "collapsed": false
   },
   "outputs": [],
   "source": [
    "Parallel(n_jobs=num_cores)(delayed(Test)(ObjectId) for ObjectId in ObjectIdList[:1])"
   ]
  },
  {
   "cell_type": "code",
   "execution_count": null,
   "metadata": {
    "collapsed": true
   },
   "outputs": [],
   "source": []
  },
  {
   "cell_type": "code",
   "execution_count": null,
   "metadata": {
    "collapsed": true
   },
   "outputs": [],
   "source": []
  },
  {
   "cell_type": "code",
   "execution_count": 6,
   "metadata": {
    "collapsed": true
   },
   "outputs": [],
   "source": [
    "ObjectIdList = json.load(open(r'./Desktop/ObjectIdList.json'))"
   ]
  },
  {
   "cell_type": "code",
   "execution_count": 7,
   "metadata": {
    "collapsed": false
   },
   "outputs": [
    {
     "data": {
      "text/plain": [
       "5273947"
      ]
     },
     "execution_count": 7,
     "metadata": {},
     "output_type": "execute_result"
    }
   ],
   "source": [
    "len(ObjectIdList)"
   ]
  },
  {
   "cell_type": "code",
   "execution_count": 4,
   "metadata": {
    "collapsed": false
   },
   "outputs": [
    {
     "data": {
      "text/plain": [
       "5274047"
      ]
     },
     "execution_count": 4,
     "metadata": {},
     "output_type": "execute_result"
    }
   ],
   "source": [
    "len(ObjectIdList)"
   ]
  },
  {
   "cell_type": "code",
   "execution_count": 16,
   "metadata": {
    "collapsed": false
   },
   "outputs": [
    {
     "data": {
      "text/plain": [
       "12524176"
      ]
     },
     "execution_count": 16,
     "metadata": {},
     "output_type": "execute_result"
    }
   ],
   "source": [
    "collection.find({ 'opencage' : { '$exists' : False } }).count()"
   ]
  },
  {
   "cell_type": "code",
   "execution_count": 15,
   "metadata": {
    "collapsed": false
   },
   "outputs": [
    {
     "data": {
      "text/plain": [
       "12525141"
      ]
     },
     "execution_count": 15,
     "metadata": {},
     "output_type": "execute_result"
    }
   ],
   "source": [
    "collection.find({ 'opencage' : { '$exists' : False } }).count()"
   ]
  },
  {
   "cell_type": "code",
   "execution_count": null,
   "metadata": {
    "collapsed": true
   },
   "outputs": [],
   "source": []
  },
  {
   "cell_type": "code",
   "execution_count": null,
   "metadata": {
    "collapsed": true
   },
   "outputs": [],
   "source": []
  },
  {
   "cell_type": "code",
   "execution_count": null,
   "metadata": {
    "collapsed": true
   },
   "outputs": [],
   "source": []
  },
  {
   "cell_type": "code",
   "execution_count": null,
   "metadata": {
    "collapsed": true
   },
   "outputs": [],
   "source": [
    "def Test_2(Docs):\n",
    "\n",
    "    for doc in Docs:\n",
    "\n",
    "        LatLong = str(doc['_source']['coords']['latitude']) + ',' + str(doc['_source']['coords']['longitude'] )\n",
    "        Response = urllib.request.urlopen(url + LatLong + api_key)\n",
    "        Response = Response.read()\n",
    "        Response = Response.decode('utf-8')   \n",
    "        Response = json.loads(Response)\n",
    "\n",
    "        OpenCage = {\n",
    "            'type' : Response['results'][0]['components'].get('_type', '').upper(),\n",
    "            'city' : Response['results'][0]['components'].get('city', ''),\n",
    "            'country' : Response['results'][0]['components'].get('country', ''),\n",
    "            'countrycode' : Response['results'][0]['components'].get('country_code', '').upper(),\n",
    "            'county' : Response['results'][0]['components'].get('county', ''),\n",
    "            'formattedaddress' : Response['results'][0].get('formatted', ''),\n",
    "            'housenumber' : Response['results'][0]['components'].get('housenumber', ''),\n",
    "            'postcode' : Response['results'][0]['components'].get('postcode', ''),\n",
    "            'state' : Response['results'][0]['components'].get('state', ''),\n",
    "            'statedistrict' : Response['results'][0]['components'].get('state_district', ''),\n",
    "            'street' : Response['results'][0]['components'].get('road', ''),\n",
    "            'suburb' : Response['results'][0]['components'].get('suburb', '')\n",
    "        }\n",
    "\n",
    "        doc['opencage'] = OpenCage\n",
    "        #db.collection.update_one({ '_id' : doc['_id']}, { '$set' : { 'opencage' : OpenCage }})\n",
    "        #collection.save(doc)\n",
    "        print(OpenCage)\n",
    "    \n",
    "    return None"
   ]
  },
  {
   "cell_type": "code",
   "execution_count": null,
   "metadata": {
    "collapsed": false
   },
   "outputs": [],
   "source": [
    "Test_2(collection.find({'opencage' : {'$exists' : False}, '_id' : {'$in' : ObjectIdList[:100]}}))"
   ]
  },
  {
   "cell_type": "code",
   "execution_count": null,
   "metadata": {
    "collapsed": true
   },
   "outputs": [],
   "source": []
  },
  {
   "cell_type": "code",
   "execution_count": null,
   "metadata": {
    "collapsed": true
   },
   "outputs": [],
   "source": [
    "def Test_3(doc):\n",
    "\n",
    "    LatLong = str(doc['_source']['coords']['latitude']) + ',' + str(doc['_source']['coords']['longitude'] )\n",
    "    Response = urllib.request.urlopen(url + LatLong + api_key)\n",
    "    Response = Response.read()\n",
    "    Response = Response.decode('utf-8')   \n",
    "    Response = json.loads(Response)\n",
    "\n",
    "    OpenCage = {\n",
    "        'type' : Response['results'][0]['components'].get('_type', '').upper(),\n",
    "        'city' : Response['results'][0]['components'].get('city', ''),\n",
    "        'country' : Response['results'][0]['components'].get('country', ''),\n",
    "        'countrycode' : Response['results'][0]['components'].get('country_code', '').upper(),\n",
    "        'county' : Response['results'][0]['components'].get('county', ''),\n",
    "        'formattedaddress' : Response['results'][0].get('formatted', ''),\n",
    "        'housenumber' : Response['results'][0]['components'].get('housenumber', ''),\n",
    "        'postcode' : Response['results'][0]['components'].get('postcode', ''),\n",
    "        'state' : Response['results'][0]['components'].get('state', ''),\n",
    "        'statedistrict' : Response['results'][0]['components'].get('state_district', ''),\n",
    "        'street' : Response['results'][0]['components'].get('road', ''),\n",
    "        'suburb' : Response['results'][0]['components'].get('suburb', '')\n",
    "    }\n",
    "\n",
    "    doc['opencage'] = OpenCage\n",
    "    #db.collection.update_one({ '_id' : doc['_id']}, { '$set' : { 'opencage' : OpenCage }})\n",
    "    #collection.save(doc)\n",
    "    print(OpenCage)\n",
    "    \n",
    "    return None"
   ]
  },
  {
   "cell_type": "code",
   "execution_count": null,
   "metadata": {
    "collapsed": true
   },
   "outputs": [],
   "source": [
    "Parallel(n_jobs=2)(delayed(Test_3)(Doc) for Doc in Docs)"
   ]
  },
  {
   "cell_type": "code",
   "execution_count": null,
   "metadata": {
    "collapsed": true
   },
   "outputs": [],
   "source": []
  },
  {
   "cell_type": "code",
   "execution_count": null,
   "metadata": {
    "collapsed": true
   },
   "outputs": [],
   "source": []
  },
  {
   "cell_type": "code",
   "execution_count": null,
   "metadata": {
    "collapsed": true
   },
   "outputs": [],
   "source": [
    "Parallel(n_jobs=2)(delayed(M)() for i in range(2))"
   ]
  },
  {
   "cell_type": "code",
   "execution_count": null,
   "metadata": {
    "collapsed": true
   },
   "outputs": [],
   "source": [
    "from joblib import Parallel, delayed\n",
    "\n",
    "def M():\n",
    "    print('Mes')\n",
    "    \n",
    "def F():\n",
    "    Parallel(n_jobs=2)(delayed(M)() for i in range(2))\n",
    "    \n",
    "    \n",
    "    \n",
    "if __name__ == '__main__':\n",
    "    F()"
   ]
  },
  {
   "cell_type": "code",
   "execution_count": null,
   "metadata": {
    "collapsed": true
   },
   "outputs": [],
   "source": []
  }
 ],
 "metadata": {
  "kernelspec": {
   "display_name": "Python [default]",
   "language": "python",
   "name": "python3"
  },
  "language_info": {
   "codemirror_mode": {
    "name": "ipython",
    "version": 3
   },
   "file_extension": ".py",
   "mimetype": "text/x-python",
   "name": "python",
   "nbconvert_exporter": "python",
   "pygments_lexer": "ipython3",
   "version": "3.5.2"
  }
 },
 "nbformat": 4,
 "nbformat_minor": 1
}
