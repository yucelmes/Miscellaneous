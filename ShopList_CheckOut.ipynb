{
 "cells": [
  {
   "cell_type": "code",
   "execution_count": null,
   "metadata": {
    "collapsed": true
   },
   "outputs": [],
   "source": [
    "# A Supermarket Check-Out System\n",
    "\n",
    "# This script calculates total sum of price for products in a basket list.\n",
    "# There may be a promotion for some products in one of the following ways:\n",
    "#     - a percentage discount\n",
    "#     - or, a discount in the form of Buy X Get Y Free as counts.\n",
    "\n",
    "# For this script, a list of 100 fake products is created each with a 5-letter name.\n",
    "# Each product has a price between 1 to 15 pounds."
   ]
  },
  {
   "cell_type": "code",
   "execution_count": null,
   "metadata": {
    "collapsed": false
   },
   "outputs": [],
   "source": [
    "import string\n",
    "import numpy as np\n",
    "from itertools import combinations"
   ]
  },
  {
   "cell_type": "code",
   "execution_count": null,
   "metadata": {
    "collapsed": false
   },
   "outputs": [],
   "source": [
    "alphabet = string.ascii_uppercase\n",
    "product_names = list(combinations(alphabet, 5))\n",
    "product_list = []\n",
    "\n",
    "for product_name in product_names[:100]:\n",
    "    product_list.append(''.join(letter for letter in product_name))\n",
    "\n",
    "product_list = np.array(product_list)\n",
    "price_list = np.random.randint(1, 16, 100)"
   ]
  },
  {
   "cell_type": "code",
   "execution_count": null,
   "metadata": {
    "collapsed": true
   },
   "outputs": [],
   "source": [
    "# Definition of a Product Class with attributes of Name and Price.\n",
    "# Note that the Promotion attribute will be added later if it exists for a certain product.\n",
    "\n",
    "class Product:\n",
    "    \n",
    "    NumberOfProduct = 0\n",
    "    \n",
    "    \n",
    "    def __init__(self, Name, Price):\n",
    "        \n",
    "        self.Name = Name\n",
    "        self.Price = Price\n",
    "        Product.NumberOfProduct += 1\n",
    "        \n",
    "        \n",
    "        \n",
    "    def get_name(self):\n",
    "        \n",
    "        return self.Name\n",
    "    \n",
    "    \n",
    "    def get_price(self):\n",
    "        \n",
    "        return self.Price\n",
    "    "
   ]
  },
  {
   "cell_type": "code",
   "execution_count": null,
   "metadata": {
    "collapsed": false
   },
   "outputs": [],
   "source": [
    "product_objects = {}\n",
    "\n",
    "for product, price in zip(product_list, price_list):\n",
    "    \n",
    "    product_objects[product] = Product(product, price)"
   ]
  },
  {
   "cell_type": "code",
   "execution_count": null,
   "metadata": {
    "collapsed": false
   },
   "outputs": [],
   "source": [
    "# Assume the following shop list constructed with randomly chosen 10 products and counts (counts from 1 to 10):\n",
    "\n",
    "shop_list = [(item, number) for item, number in zip(product_list[np.random.randint(1, len(product_list), 10)], \n",
    "                                                    np.random.randint(1, 11, 10))]"
   ]
  },
  {
   "cell_type": "code",
   "execution_count": null,
   "metadata": {
    "collapsed": true
   },
   "outputs": [],
   "source": [
    "# Assume that there is 15% of discount on the first product and\n",
    "# Buy 2 Get 1 Free offer on the second product in the shop list: \n",
    "\n",
    "product_objects[shop_list[0][0]].discount_type = 'Promotion_As_Percent'\n",
    "product_objects[shop_list[0][0]].discount = 15\n",
    "\n",
    "product_objects[shop_list[1][0]].discount_type = 'Promotion_As_Buy_X_Get_Y_Free'\n",
    "product_objects[shop_list[1][0]].discount = (2, 1)"
   ]
  },
  {
   "cell_type": "code",
   "execution_count": null,
   "metadata": {
    "collapsed": true
   },
   "outputs": [],
   "source": [
    "# Function definition for calculating the total sum of a shop list: \n",
    "\n",
    "def calculate_basket(shop_list):\n",
    "    \n",
    "    total_sum = 0\n",
    "    \n",
    "    for item, number in shop_list:\n",
    "        \n",
    "        if hasattr(product_objects[item], 'discount_type'):\n",
    "            \n",
    "            if product_objects[item].discount_type == 'Promotion_As_Percent':\n",
    "                \n",
    "                discount_factor = (100 - product_objects[item].discount) / 100.\n",
    "                total_sum += product_objects[item].get_price() * number * discount_factor\n",
    "            \n",
    "            else:\n",
    "            \n",
    "                x, y = product_objects[item].discount\n",
    "                div_mod = divmod(number, x+y)\n",
    "                discounted_number = (div_mod[0] * x + div_mod[1])\n",
    "                total_sum += product_objects[item].get_price() * discounted_number\n",
    "                \n",
    "        else:\n",
    "            \n",
    "            total_sum += product_objects[item].get_price() * number\n",
    "    \n",
    "    return total_sum"
   ]
  },
  {
   "cell_type": "code",
   "execution_count": null,
   "metadata": {
    "collapsed": false
   },
   "outputs": [],
   "source": [
    "print('Total sum for this shopping list:', calculate_basket(shop_list), '£')"
   ]
  },
  {
   "cell_type": "code",
   "execution_count": null,
   "metadata": {
    "collapsed": true
   },
   "outputs": [],
   "source": []
  }
 ],
 "metadata": {
  "anaconda-cloud": {},
  "kernelspec": {
   "display_name": "Python [Root]",
   "language": "python",
   "name": "Python [Root]"
  },
  "language_info": {
   "codemirror_mode": {
    "name": "ipython",
    "version": 3
   },
   "file_extension": ".py",
   "mimetype": "text/x-python",
   "name": "python",
   "nbconvert_exporter": "python",
   "pygments_lexer": "ipython3",
   "version": "3.5.1"
  }
 },
 "nbformat": 4,
 "nbformat_minor": 0
}
