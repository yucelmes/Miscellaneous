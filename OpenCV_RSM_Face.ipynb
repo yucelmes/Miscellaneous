{
 "cells": [
  {
   "cell_type": "code",
   "execution_count": null,
   "metadata": {
    "collapsed": false
   },
   "outputs": [],
   "source": [
    "# Parameter Optimization of OpenCV Face Detection by Haar-Cascade\n",
    "\n",
    "import numpy as np\n",
    "import cv2\n",
    "import matplotlib.pyplot as plt\n",
    "import glob\n",
    "from PIL import Image\n",
    "import os\n",
    "from math import ceil, radians, sin, cos\n",
    "import pandas as pd\n",
    "import subprocess"
   ]
  },
  {
   "cell_type": "code",
   "execution_count": null,
   "metadata": {
    "collapsed": true
   },
   "outputs": [],
   "source": [
    "# Loading Frontal&Profile Face Classifiers\n",
    "\n",
    "face_cascade1 = cv2.CascadeClassifier(r'.\\Downloads\\opencv\\sources\\data\\haarcascades_GPU\\haarcascade_frontalface_alt.xml')\n",
    "face_cascade2 = cv2.CascadeClassifier(r'.\\Downloads\\opencv\\sources\\data\\haarcascades_GPU\\haarcascade_profileface.xml')"
   ]
  },
  {
   "cell_type": "code",
   "execution_count": null,
   "metadata": {
    "collapsed": true
   },
   "outputs": [],
   "source": [
    "# Extracting Face Center and Radius\n",
    "\n",
    "def face_center_radius(x, y, w, h):\n",
    "    \n",
    "    face_center = x+w/2, y+h/2\n",
    "    face_radius_small = np.mean((w, h))/2\n",
    "    face_radius_big = np.sqrt((w/2)**2 + (h/2)**2)\n",
    "    \n",
    "    return face_center, np.int(np.mean((face_radius_small, face_radius_big)))"
   ]
  },
  {
   "cell_type": "code",
   "execution_count": null,
   "metadata": {
    "collapsed": true
   },
   "outputs": [],
   "source": [
    "# Un-Rotating Face Center\n",
    "\n",
    "def face_original_center(face_center, im_center, angle):\n",
    "    \n",
    "    x_dist = face_center[0] - im_center[0]\n",
    "    y_dist = face_center[1] - im_center[1]\n",
    "    x_new = x_dist*cos(radians(-angle)) + y_dist*sin(radians(-angle)) + im_center[0]\n",
    "    y_new = -x_dist*sin(radians(-angle)) + y_dist*cos(radians(-angle)) + im_center[1]\n",
    "    \n",
    "    return np.int(x_new), np.int(y_new)"
   ]
  },
  {
   "cell_type": "code",
   "execution_count": null,
   "metadata": {
    "collapsed": true
   },
   "outputs": [],
   "source": [
    "# Creating Mask For Circular Area\n",
    "\n",
    "def circle_mask(centre, radius, array):\n",
    "    b, a = centre\n",
    "    nx, ny = array.shape\n",
    "    y, x = np.ogrid[-a:nx-a, -b:ny-b]\n",
    "    mask = x*x + y*y <= radius*radius\n",
    "\n",
    "    return(mask)"
   ]
  },
  {
   "cell_type": "code",
   "execution_count": null,
   "metadata": {
    "collapsed": false,
    "scrolled": false
   },
   "outputs": [],
   "source": [
    "# Frontal and Profile Face Detection\n",
    "\n",
    "img_filenames = glob.glob(r'./Desktop/TestFace/*.jpg')\n",
    "\n",
    "angles = [0, 15, 30, 45, 60, 75, 90]\n",
    "param_vals = pd.read_csv(r'./Desktop/RSM_Design.csv', header=None)\n",
    "\n",
    "\n",
    "result_path = r'./Desktop/RSM_Face' \n",
    "if not os.path.exists(result_path):\n",
    "    os.makedirs(result_path)\n",
    "    \n",
    "    \n",
    "\n",
    "for set_number in param_vals.index:\n",
    "    \n",
    "    fSF, pSF, MN = param_vals.loc[set_number]\n",
    "    MN = int(MN)\n",
    "    print('\\nOPTIMIZATION SET {}'.format(set_number+1))\n",
    "    print('FrontalSF: {},  ProfileSF: {},  MinNeighbors: {}'.format(fSF, pSF, MN))\n",
    "    print('-'*51)\n",
    "    \n",
    "    AnalysisData = pd.DataFrame(columns=['ImageNo', 'RotationAngle', 'BlurredArea', 'CircleNumber', 'AreaPerCircle'])\n",
    "    i = int(0)\n",
    "\n",
    "    \n",
    "    path = r'./Desktop/RSM_Face/Set' + str(set_number+1) + '-' + str(fSF) + '-' + str(pSF) + '-' + str(MN)\n",
    "    os.makedirs(path)\n",
    "    \n",
    "    \n",
    "    for image_number, img_filename in enumerate(img_filenames):\n",
    "\n",
    "        orig_img = Image.open(img_filename)\n",
    "\n",
    "\n",
    "        # Minimal Background Size Condition: img_h**2 + img_w**2 <= bg_h**2\n",
    "        img_w, img_h = orig_img.size\n",
    "        bg_h = np.sqrt(img_h**2 + img_w**2)\n",
    "        bg_w = bg_h * img_w/img_h\n",
    "        bg_h, bg_w = np.int(ceil(bg_h)), np.int(ceil(bg_w))\n",
    "        background = Image.new('RGB', (bg_w, bg_h), (0, 0, 0))\n",
    "        offset = ((bg_w - img_w) / 2, (bg_h - img_h) / 2)\n",
    "        background.paste(orig_img, offset)\n",
    "        combined_img = np.asarray(background)\n",
    "        del orig_img\n",
    "\n",
    "        # Creating 2D Mask for Quantifying False Positives\n",
    "        face_mask = np.zeros((bg_h, bg_w), 'bool')\n",
    "        all_radius = []\n",
    "\n",
    "\n",
    "        for abs_angle in angles:\n",
    "\n",
    "            for angle in {-abs_angle, abs_angle}:\n",
    "\n",
    "                img = np.asarray(background.rotate(angle=angle, expand=False)).copy()\n",
    "                gray = cv2.cvtColor(img, cv2.cv.CV_BGR2GRAY)\n",
    "                gray = cv2.equalizeHist(gray)\n",
    "\n",
    "                faces1 = face_cascade1.detectMultiScale(gray, scaleFactor=fSF, minNeighbors=MN, flags=cv2.cv.CV_HAAR_SCALE_IMAGE, minSize=(30, 30))\n",
    "                faces2 = face_cascade2.detectMultiScale(gray, scaleFactor=pSF, minNeighbors=MN, flags=cv2.cv.CV_HAAR_SCALE_IMAGE, minSize=(30, 30))\n",
    "\n",
    "                im_center = img.shape[1]/2, img.shape[0]/2\n",
    "\n",
    "                \n",
    "                for (x,y,w,h) in faces1:\n",
    "\n",
    "                    face_center, face_radius = face_center_radius(x, y, w, h)\n",
    "                    new_center = face_original_center(face_center, im_center, angle)\n",
    "                    cv2.circle(combined_img, new_center, face_radius, (255, 0, 0), 3)\n",
    "\n",
    "                    all_radius.append(face_radius)\n",
    "                    face_mask[circle_mask(new_center, face_radius, face_mask)] = True\n",
    "\n",
    "\n",
    "                for (x,y,w,h) in faces2:\n",
    "\n",
    "                    face_center, face_radius = face_center_radius(x, y, w, h)\n",
    "                    new_center = face_original_center(face_center, im_center, angle)\n",
    "                    cv2.circle(combined_img, new_center, face_radius, (0, 255, 0), 3)\n",
    "\n",
    "                    all_radius.append(face_radius)\n",
    "                    face_mask[circle_mask(new_center, face_radius, face_mask)] = True\n",
    "                    \n",
    "                    \n",
    "                print('Image No: {},  Rotation: {} degrees'.format(image_number+1, angle))\n",
    "                \n",
    "            \n",
    "            Image.fromarray(combined_img[offset[1]:offset[1]+img_h, offset[0]:offset[0]+img_w], 'RGB').save(\n",
    "                path + '/Im' + str(image_number+1) + '_' + str(abs_angle) + '.jpg')  \n",
    "\n",
    "            blurred_area = face_mask[offset[1]:offset[1]+img_h, offset[0]:offset[0]+img_w].sum()\n",
    "            fake_mask = np.zeros((bg_h, bg_w), 'bool')\n",
    "            fake_mask[circle_mask((bg_h/2, bg_w/2), np.sqrt(np.mean(np.power(all_radius, 2))), fake_mask)] = True\n",
    "            area_per_circle = fake_mask.sum()\n",
    "\n",
    "            AnalysisData.loc[i] = [image_number+1, abs_angle, blurred_area, len(all_radius), area_per_circle]\n",
    "            i += 1\n",
    "            \n",
    "    AnalysisData.to_csv(path + '/AnalysisData.csv')\n",
    "        \n",
    "\n",
    "subprocess.call(['shutdown', '/s'])"
   ]
  },
  {
   "cell_type": "code",
   "execution_count": null,
   "metadata": {
    "collapsed": true
   },
   "outputs": [],
   "source": []
  }
 ],
 "metadata": {
  "anaconda-cloud": {},
  "kernelspec": {
   "display_name": "Python [default]",
   "language": "python",
   "name": "python2"
  },
  "language_info": {
   "codemirror_mode": {
    "name": "ipython",
    "version": 2
   },
   "file_extension": ".py",
   "mimetype": "text/x-python",
   "name": "python",
   "nbconvert_exporter": "python",
   "pygments_lexer": "ipython2",
   "version": "2.7.12"
  }
 },
 "nbformat": 4,
 "nbformat_minor": 1
}
