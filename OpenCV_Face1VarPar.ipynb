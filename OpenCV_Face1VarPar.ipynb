{
 "cells": [
  {
   "cell_type": "code",
   "execution_count": null,
   "metadata": {
    "collapsed": false
   },
   "outputs": [],
   "source": [
    "# Performance Analysis of OpenCV Face&Eye Detection by Haar-Cascades\n",
    "\n",
    "import numpy as np\n",
    "import cv2\n",
    "import matplotlib.pyplot as plt\n",
    "import glob\n",
    "from PIL import Image\n",
    "\n",
    "%matplotlib inline\n",
    "%pylab"
   ]
  },
  {
   "cell_type": "code",
   "execution_count": null,
   "metadata": {
    "collapsed": true
   },
   "outputs": [],
   "source": [
    "# Loading Face and Eye Classifiers\n",
    "\n",
    "face_cascade = cv2.CascadeClassifier(r'.\\Downloads\\opencv\\sources\\data\\haarcascades_GPU\\haarcascade_frontalface_alt2.xml')"
   ]
  },
  {
   "cell_type": "code",
   "execution_count": null,
   "metadata": {
    "collapsed": false,
    "scrolled": false
   },
   "outputs": [],
   "source": [
    "# Analysing All Images in a File\n",
    "\n",
    "img_filenames = glob.iglob(r'./Desktop/z/*.jpg')\n",
    "\n",
    "for img_filename in img_filenames:\n",
    "    \n",
    "    img = plt.imread(img_filename)\n",
    "    gray = cv2.cvtColor(cv2.imread(img_filename), cv2.cv.CV_BGR2GRAY)\n",
    "    gray = cv2.equalizeHist(gray)\n",
    "    faces1 = face_cascade.detectMultiScale(gray, 1.11, 2, 0 | cv2.cv.CV_HAAR_SCALE_IMAGE, (50, 50))\n",
    "    faces2 = face_cascade.detectMultiScale(gray, 1.1, 2, 0 | cv2.cv.CV_HAAR_SCALE_IMAGE, (60, 60))\n",
    "    faces3 = face_cascade.detectMultiScale(gray, 1.09, 2, 0 | cv2.cv.CV_HAAR_SCALE_IMAGE, (70, 70))\n",
    "        \n",
    "    for (x,y,w,h) in faces1:        \n",
    "        cv2.rectangle(img, (x,y), (x+w,y+h), (255,0,0), 2)\n",
    "    \n",
    "    for (x,y,w,h) in faces2:        \n",
    "        cv2.rectangle(img, (x,y), (x+w,y+h), (0,255,0), 2)\n",
    "        \n",
    "    for (x,y,w,h) in faces3:        \n",
    "        cv2.rectangle(img, (x,y), (x+w,y+h), (0,0,255), 2)\n",
    "\n",
    "            \n",
    "    display(Image.fromarray(img, 'RGB'))"
   ]
  },
  {
   "cell_type": "code",
   "execution_count": null,
   "metadata": {
    "collapsed": true
   },
   "outputs": [],
   "source": []
  }
 ],
 "metadata": {
  "kernelspec": {
   "display_name": "Python [default]",
   "language": "python",
   "name": "python2"
  },
  "language_info": {
   "codemirror_mode": {
    "name": "ipython",
    "version": 2
   },
   "file_extension": ".py",
   "mimetype": "text/x-python",
   "name": "python",
   "nbconvert_exporter": "python",
   "pygments_lexer": "ipython2",
   "version": "2.7.12"
  }
 },
 "nbformat": 4,
 "nbformat_minor": 1
}
