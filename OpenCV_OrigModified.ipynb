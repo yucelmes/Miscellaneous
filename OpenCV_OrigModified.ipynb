{
 "cells": [
  {
   "cell_type": "code",
   "execution_count": null,
   "metadata": {
    "collapsed": false
   },
   "outputs": [],
   "source": [
    "# Performance Analysis of OpenCV Face&Eye Detection by Haar-Cascades\n",
    "\n",
    "import numpy as np\n",
    "import cv2\n",
    "import matplotlib.pyplot as plt\n",
    "import glob\n",
    "from PIL import Image\n",
    "from math import sin, cos, radians, degrees, asin\n",
    "\n",
    "%matplotlib inline\n",
    "%pylab"
   ]
  },
  {
   "cell_type": "code",
   "execution_count": null,
   "metadata": {
    "collapsed": true
   },
   "outputs": [],
   "source": [
    "# Loading Face and Eye Classifiers\n",
    "\n",
    "face_cascade = cv2.CascadeClassifier(r'.\\Downloads\\opencv\\sources\\data\\haarcascades_GPU\\haarcascade_profileface.xml')"
   ]
  },
  {
   "cell_type": "code",
   "execution_count": null,
   "metadata": {
    "collapsed": false
   },
   "outputs": [],
   "source": [
    "orig_img = Image.open(r'./Desktop/t.jpg')\n",
    "img_w, img_h = orig_img.size\n",
    "background = Image.new('RGB', (4332, 3236), (0, 0, 0))\n",
    "bg_w, bg_h = background.size\n",
    "offset = ((bg_w - img_w) / 2, (bg_h - img_h) / 2)\n",
    "background.paste(orig_img, offset)"
   ]
  },
  {
   "cell_type": "code",
   "execution_count": null,
   "metadata": {
    "collapsed": false
   },
   "outputs": [],
   "source": [
    "orig_img.size"
   ]
  },
  {
   "cell_type": "code",
   "execution_count": null,
   "metadata": {
    "collapsed": false
   },
   "outputs": [],
   "source": [
    "background.size"
   ]
  },
  {
   "cell_type": "code",
   "execution_count": null,
   "metadata": {
    "collapsed": false
   },
   "outputs": [],
   "source": [
    "2592.0/1936"
   ]
  },
  {
   "cell_type": "code",
   "execution_count": null,
   "metadata": {
    "collapsed": false
   },
   "outputs": [],
   "source": [
    "4332/3236.0"
   ]
  },
  {
   "cell_type": "code",
   "execution_count": null,
   "metadata": {
    "collapsed": false
   },
   "outputs": [],
   "source": [
    "display(background)"
   ]
  },
  {
   "cell_type": "code",
   "execution_count": null,
   "metadata": {
    "collapsed": false
   },
   "outputs": [],
   "source": [
    "img = np.asarray(background.rotate(angle=-45, expand=False)).copy()\n",
    "gray = cv2.cvtColor(img, cv2.cv.CV_BGR2GRAY)\n",
    "gray = cv2.equalizeHist(gray)\n",
    "faces = face_cascade.detectMultiScale(gray, scaleFactor=1.05, minNeighbors=2, flags=cv2.cv.CV_HAAR_SCALE_IMAGE, minSize=(20, 20))\n",
    "\n",
    "for (x,y,w,h) in faces:\n",
    "    face = img[y:y+h, x:x+w]\n",
    "    face = cv2.GaussianBlur(face, (101,101), 100)\n",
    "    img[y:y+face.shape[0], x:x+face.shape[1]] = face\n",
    "    cv2.rectangle(img, (x,y), (x+w,y+h), (0,255,0), 2)\n",
    "\n",
    "\n",
    "#Image.fromarray(img, 'RGB').save(r'./Desktop/test' + str(-5) + '.jpg')\n",
    "display(Image.fromarray(img, 'RGB'))"
   ]
  },
  {
   "cell_type": "code",
   "execution_count": null,
   "metadata": {
    "collapsed": false
   },
   "outputs": [],
   "source": [
    "img = np.asarray(background.rotate(angle=-45, expand=False)).copy()\n",
    "gray = cv2.cvtColor(img, cv2.cv.CV_BGR2GRAY)\n",
    "gray = cv2.equalizeHist(gray)\n",
    "faces = face_cascade.detectMultiScale(gray, scaleFactor=1.05, minNeighbors=2, flags=cv2.cv.CV_HAAR_SCALE_IMAGE, minSize=(20, 20))\n",
    "\n",
    "for (x,y,w,h) in faces:\n",
    "    center = x+w/2, y+h/2\n",
    "    radius = np.sqrt((w/2)**2 + (h/2)**2)\n",
    "    #face = img[y:y+h, x:x+w]\n",
    "    #face = cv2.GaussianBlur(face, (101,101), 100)\n",
    "    #img[y:y+face.shape[0], x:x+face.shape[1]] = face\n",
    "    cv2.circle(img, center, np.int(radius), (0,255,0), 2)\n",
    "\n",
    "\n",
    "#Image.fromarray(img, 'RGB').save(r'./Desktop/test' + str(-5) + '.jpg')\n",
    "display(Image.fromarray(img, 'RGB'))"
   ]
  },
  {
   "cell_type": "code",
   "execution_count": null,
   "metadata": {
    "collapsed": false
   },
   "outputs": [],
   "source": [
    "display(Image.fromarray(img, 'RGB').rotate(angle=45, expand=False))"
   ]
  },
  {
   "cell_type": "code",
   "execution_count": null,
   "metadata": {
    "collapsed": true
   },
   "outputs": [],
   "source": [
    "face_center = x+w/2, y+h/2,\n",
    "im_center = img.shape[1]/2, img.shape[0]/2\n",
    "faceim_radius = np.sqrt((face_center[0] - im_center[0])**2 + (face_center[1] - im_center[1])**2)\n",
    "face_radius = np.int(np.sqrt((w/2)**2 + (h/2)**2))"
   ]
  },
  {
   "cell_type": "code",
   "execution_count": null,
   "metadata": {
    "collapsed": false
   },
   "outputs": [],
   "source": [
    "x_dist = face_center[0] - im_center[0]\n",
    "y_dist = face_center[1] - im_center[1]\n",
    "x_new = x_dist*cos(radians(45)) + y_dist*sin(radians(45)) + im_center[0]\n",
    "y_new = -x_dist*sin(radians(45)) + y_dist*cos(radians(45)) + im_center[1]\n",
    "new_center = np.int(x_new), np.int(y_new)"
   ]
  },
  {
   "cell_type": "code",
   "execution_count": null,
   "metadata": {
    "collapsed": false
   },
   "outputs": [],
   "source": [
    "background_mod = np.asarray(background)\n",
    "cv2.circle(background_mod, new_center, face_radius, (0, 255, 0), 3)"
   ]
  },
  {
   "cell_type": "code",
   "execution_count": null,
   "metadata": {
    "collapsed": false
   },
   "outputs": [],
   "source": [
    "display(Image.fromarray(background_mod, 'RGB'))"
   ]
  },
  {
   "cell_type": "code",
   "execution_count": null,
   "metadata": {
    "collapsed": false
   },
   "outputs": [],
   "source": [
    "display(orig_img)"
   ]
  },
  {
   "cell_type": "code",
   "execution_count": null,
   "metadata": {
    "collapsed": false
   },
   "outputs": [],
   "source": [
    "orig_img.size"
   ]
  },
  {
   "cell_type": "code",
   "execution_count": null,
   "metadata": {
    "collapsed": false
   },
   "outputs": [],
   "source": [
    "new_center"
   ]
  },
  {
   "cell_type": "code",
   "execution_count": null,
   "metadata": {
    "collapsed": false
   },
   "outputs": [],
   "source": [
    "background_mod.shape"
   ]
  },
  {
   "cell_type": "code",
   "execution_count": null,
   "metadata": {
    "collapsed": false
   },
   "outputs": [],
   "source": [
    "a = np.asarray(orig_img)"
   ]
  },
  {
   "cell_type": "code",
   "execution_count": null,
   "metadata": {
    "collapsed": false
   },
   "outputs": [],
   "source": [
    "a.shape"
   ]
  },
  {
   "cell_type": "code",
   "execution_count": null,
   "metadata": {
    "collapsed": true
   },
   "outputs": [],
   "source": [
    "new_center2 = 2583.0/4332 * 1936, 1529.0/3236 * 2592"
   ]
  },
  {
   "cell_type": "code",
   "execution_count": null,
   "metadata": {
    "collapsed": false
   },
   "outputs": [],
   "source": [
    "new_center2= np.int(new_center2[0]), np.int(new_center2[1])"
   ]
  },
  {
   "cell_type": "code",
   "execution_count": null,
   "metadata": {
    "collapsed": false
   },
   "outputs": [],
   "source": [
    "new_center2"
   ]
  },
  {
   "cell_type": "code",
   "execution_count": null,
   "metadata": {
    "collapsed": true
   },
   "outputs": [],
   "source": [
    "cv2.circle(a, new_center2, face_radius, (0, 255, 0), 3)"
   ]
  },
  {
   "cell_type": "code",
   "execution_count": null,
   "metadata": {
    "collapsed": false
   },
   "outputs": [],
   "source": [
    "display(Image.fromarray(a, 'RGB'))"
   ]
  },
  {
   "cell_type": "code",
   "execution_count": null,
   "metadata": {
    "collapsed": false
   },
   "outputs": [],
   "source": [
    "background_mod.shape"
   ]
  },
  {
   "cell_type": "code",
   "execution_count": null,
   "metadata": {
    "collapsed": false
   },
   "outputs": [],
   "source": [
    "orig_img.size"
   ]
  },
  {
   "cell_type": "code",
   "execution_count": null,
   "metadata": {
    "collapsed": false
   },
   "outputs": [],
   "source": [
    "3236 - 1936"
   ]
  },
  {
   "cell_type": "code",
   "execution_count": null,
   "metadata": {
    "collapsed": false
   },
   "outputs": [],
   "source": [
    "1300/2"
   ]
  },
  {
   "cell_type": "code",
   "execution_count": null,
   "metadata": {
    "collapsed": false
   },
   "outputs": [],
   "source": [
    "4332 - 2592"
   ]
  },
  {
   "cell_type": "code",
   "execution_count": null,
   "metadata": {
    "collapsed": false
   },
   "outputs": [],
   "source": [
    "1740/2"
   ]
  },
  {
   "cell_type": "code",
   "execution_count": null,
   "metadata": {
    "collapsed": false
   },
   "outputs": [],
   "source": [
    "display(Image.fromarray(background_mod[650:650+orig_img.size[1], 870:870+orig_img.size[0]], 'RGB'))"
   ]
  },
  {
   "cell_type": "code",
   "execution_count": null,
   "metadata": {
    "collapsed": false
   },
   "outputs": [],
   "source": [
    "display(orig_img)"
   ]
  },
  {
   "cell_type": "code",
   "execution_count": null,
   "metadata": {
    "collapsed": true
   },
   "outputs": [],
   "source": []
  },
  {
   "cell_type": "code",
   "execution_count": null,
   "metadata": {
    "collapsed": true
   },
   "outputs": [],
   "source": []
  }
 ],
 "metadata": {
  "kernelspec": {
   "display_name": "Python [default]",
   "language": "python",
   "name": "python2"
  },
  "language_info": {
   "codemirror_mode": {
    "name": "ipython",
    "version": 2
   },
   "file_extension": ".py",
   "mimetype": "text/x-python",
   "name": "python",
   "nbconvert_exporter": "python",
   "pygments_lexer": "ipython2",
   "version": "2.7.12"
  }
 },
 "nbformat": 4,
 "nbformat_minor": 1
}
