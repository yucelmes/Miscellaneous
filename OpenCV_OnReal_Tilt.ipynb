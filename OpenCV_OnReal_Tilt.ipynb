{
 "cells": [
  {
   "cell_type": "code",
   "execution_count": null,
   "metadata": {
    "collapsed": false
   },
   "outputs": [],
   "source": [
    "# Performance Analysis of OpenCV Face&Eye Detection by Haar-Cascades\n",
    "\n",
    "import numpy as np\n",
    "import cv2\n",
    "import matplotlib.pyplot as plt\n",
    "import glob\n",
    "from PIL import Image\n",
    "\n",
    "%matplotlib inline\n",
    "%pylab"
   ]
  },
  {
   "cell_type": "code",
   "execution_count": null,
   "metadata": {
    "collapsed": true
   },
   "outputs": [],
   "source": [
    "# Loading Face and Eye Classifiers\n",
    "\n",
    "face_cascade1 = cv2.CascadeClassifier(r'.\\Downloads\\opencv\\sources\\data\\haarcascades_GPU\\haarcascade_frontalface_alt.xml')\n",
    "face_cascade2 = cv2.CascadeClassifier(r'.\\Downloads\\opencv\\sources\\data\\haarcascades_GPU\\haarcascade_profileface.xml')"
   ]
  },
  {
   "cell_type": "code",
   "execution_count": null,
   "metadata": {
    "collapsed": false,
    "scrolled": false
   },
   "outputs": [],
   "source": [
    "img_filenames = glob.iglob(r'./Desktop/TestTilt/a/*.jpg')\n",
    "\n",
    "for img_filename in img_filenames:\n",
    "    \n",
    "    orig_img = Image.open(img_filename)\n",
    "    angles = np.linspace(-45, 45, 7)\n",
    "\n",
    "    for angle in angles:\n",
    "\n",
    "        img = np.asarray(orig_img.rotate(angle=angle, expand=True)).copy()\n",
    "        gray = cv2.cvtColor(img, cv2.cv.CV_BGR2GRAY)\n",
    "        gray = cv2.equalizeHist(gray)\n",
    "        faces1 = face_cascade1.detectMultiScale(gray, 1.08, 2, 0 | cv2.cv.CV_HAAR_SCALE_IMAGE, (50, 50))\n",
    "        faces2 = face_cascade2.detectMultiScale(gray, 1.05, 2, 0 | cv2.cv.CV_HAAR_SCALE_IMAGE, (20, 20))\n",
    "\n",
    "        for (x,y,w,h) in faces1:\n",
    "            face = img[y:y+h, x:x+w]\n",
    "            face = cv2.GaussianBlur(face, (101,101), 100)\n",
    "            img[y:y+face.shape[0], x:x+face.shape[1]] = face\n",
    "            cv2.rectangle(img, (x,y), (x+w,y+h), (255,0,0), 2)\n",
    "\n",
    "        for (x,y,w,h) in faces2:\n",
    "            face = img[y:y+h, x:x+w]\n",
    "            face = cv2.GaussianBlur(face, (101,101), 100)\n",
    "            img[y:y+face.shape[0], x:x+face.shape[1]] = face\n",
    "            cv2.rectangle(img, (x,y), (x+w,y+h), (0,255,0), 2)\n",
    "\n",
    "\n",
    "        display(Image.fromarray(img, 'RGB'))"
   ]
  },
  {
   "cell_type": "code",
   "execution_count": null,
   "metadata": {
    "collapsed": true
   },
   "outputs": [],
   "source": []
  }
 ],
 "metadata": {
  "kernelspec": {
   "display_name": "Python [default]",
   "language": "python",
   "name": "python2"
  },
  "language_info": {
   "codemirror_mode": {
    "name": "ipython",
    "version": 2
   },
   "file_extension": ".py",
   "mimetype": "text/x-python",
   "name": "python",
   "nbconvert_exporter": "python",
   "pygments_lexer": "ipython2",
   "version": "2.7.12"
  }
 },
 "nbformat": 4,
 "nbformat_minor": 1
}
