{
 "cells": [
  {
   "cell_type": "code",
   "execution_count": 87,
   "metadata": {
    "collapsed": true
   },
   "outputs": [],
   "source": [
    "import PyPDF2\n",
    "from string import digits, punctuation\n",
    "from sklearn.pipeline import Pipeline\n",
    "from sklearn.naive_bayes import MultinomialNB\n",
    "from sklearn.feature_extraction.text import TfidfTransformer\n",
    "from sklearn.feature_extraction.text import CountVectorizer\n",
    "from sklearn.model_selection import train_test_split\n",
    "from sklearn import metrics\n",
    "import random\n",
    "import json"
   ]
  },
  {
   "cell_type": "code",
   "execution_count": 2,
   "metadata": {
    "collapsed": true
   },
   "outputs": [],
   "source": [
    "def AttachAndCleanTexts(NiceClass):\n",
    "    \n",
    "    pdfFileObj = open(r'./Desktop/Nice Classes/20170101-en-class-flat-' + str(NiceClass) + '.pdf','rb')\n",
    "    pdfReader = PyPDF2.PdfFileReader(pdfFileObj)\n",
    "    \n",
    "    TextBody = ''\n",
    "    \n",
    "    for i in range(0, pdfReader.numPages):\n",
    "        \n",
    "        pageObj = pdfReader.getPage(i)\n",
    "        TextBody = TextBody + ' ' + pageObj.extractText().replace('\\n', ' ')\n",
    "        \n",
    "        \n",
    "    TextBody = TextBody.replace('/', ' ')\n",
    "    TextBody = TextBody.replace('NICE CLASSIFICATION - 11th Edition, Version 2017 Class', ' ')\n",
    "    TextBody = TextBody.replace('Page', '')\n",
    "    TextBody = TextBody.replace('Class', '')\n",
    "    \n",
    "    remove_digits = str.maketrans('', '', digits)\n",
    "    remove_puncs = str.maketrans('', '', punctuation)\n",
    "    \n",
    "    TextBody = TextBody.translate(remove_digits)\n",
    "    TextBody = TextBody.translate(remove_puncs)\n",
    "    TextBody = TextBody.lower()\n",
    "    \n",
    "    \n",
    "    return TextBody"
   ]
  },
  {
   "cell_type": "code",
   "execution_count": 8,
   "metadata": {
    "collapsed": true
   },
   "outputs": [],
   "source": [
    "TextBody = AttachAndCleanTexts(33)"
   ]
  },
  {
   "cell_type": "code",
   "execution_count": 83,
   "metadata": {
    "scrolled": true
   },
   "outputs": [],
   "source": [
    "ClassTexts = []\n",
    "Classes = []\n",
    "\n",
    "for NiceClass in range(1, 46):\n",
    "    \n",
    "    TextBody = AttachAndCleanTexts(NiceClass)\n",
    "    TokenizedText = TextBody.split()\n",
    "    TokenSize = round(0.5*len(TokenizedText))\n",
    "    \n",
    "    for i in range(100):\n",
    "        \n",
    "        TokenizedSubText = random.sample(TokenizedText, TokenSize)\n",
    "        SubText = ' '.join(TokenizedSubText)\n",
    "        ClassTexts.append(SubText)\n",
    "        Classes.append(NiceClass)"
   ]
  },
  {
   "cell_type": "code",
   "execution_count": 84,
   "metadata": {},
   "outputs": [],
   "source": [
    "X = ClassTexts\n",
    "Y = Classes\n",
    "\n",
    "subject_clf = Pipeline([('vect', CountVectorizer()), ('tfidf', TfidfTransformer()), ('clf', MultinomialNB()),])\n",
    "x_train, x_test, y_train, y_test = train_test_split(X, Y, test_size=0.5, random_state=42)\n",
    "subject_clf = subject_clf.fit(x_train, y_train)\n",
    "predicted = subject_clf.predict(x_test)"
   ]
  },
  {
   "cell_type": "code",
   "execution_count": 85,
   "metadata": {
    "scrolled": true
   },
   "outputs": [
    {
     "name": "stdout",
     "output_type": "stream",
     "text": [
      "             precision    recall  f1-score   support\n",
      "\n",
      "          1       1.00      1.00      1.00        46\n",
      "          2       1.00      1.00      1.00        51\n",
      "          3       1.00      1.00      1.00        59\n",
      "          4       1.00      1.00      1.00        46\n",
      "          5       1.00      1.00      1.00        53\n",
      "          6       1.00      1.00      1.00        54\n",
      "          7       1.00      1.00      1.00        50\n",
      "          8       1.00      1.00      1.00        40\n",
      "          9       1.00      1.00      1.00        52\n",
      "         10       1.00      1.00      1.00        44\n",
      "         11       1.00      1.00      1.00        52\n",
      "         12       1.00      1.00      1.00        54\n",
      "         13       1.00      1.00      1.00        48\n",
      "         14       1.00      1.00      1.00        40\n",
      "         15       1.00      1.00      1.00        57\n",
      "         16       1.00      1.00      1.00        53\n",
      "         17       1.00      1.00      1.00        47\n",
      "         18       1.00      1.00      1.00        55\n",
      "         19       1.00      1.00      1.00        53\n",
      "         20       1.00      1.00      1.00        45\n",
      "         21       1.00      1.00      1.00        46\n",
      "         22       1.00      1.00      1.00        50\n",
      "         23       1.00      1.00      1.00        58\n",
      "         24       1.00      1.00      1.00        56\n",
      "         25       1.00      1.00      1.00        59\n",
      "         26       1.00      1.00      1.00        53\n",
      "         27       1.00      1.00      1.00        57\n",
      "         28       1.00      1.00      1.00        44\n",
      "         29       1.00      1.00      1.00        45\n",
      "         30       1.00      1.00      1.00        48\n",
      "         31       1.00      1.00      1.00        41\n",
      "         32       1.00      1.00      1.00        47\n",
      "         33       1.00      1.00      1.00        42\n",
      "         34       1.00      1.00      1.00        37\n",
      "         35       1.00      1.00      1.00        53\n",
      "         36       1.00      1.00      1.00        54\n",
      "         37       1.00      1.00      1.00        57\n",
      "         38       1.00      1.00      1.00        43\n",
      "         39       1.00      1.00      1.00        55\n",
      "         40       1.00      1.00      1.00        51\n",
      "         41       1.00      1.00      1.00        43\n",
      "         42       1.00      1.00      1.00        53\n",
      "         43       1.00      1.00      1.00        54\n",
      "         44       1.00      1.00      1.00        56\n",
      "         45       1.00      1.00      1.00        49\n",
      "\n",
      "avg / total       1.00      1.00      1.00      2250\n",
      "\n"
     ]
    }
   ],
   "source": [
    "print(metrics.classification_report(y_test, predicted))"
   ]
  },
  {
   "cell_type": "code",
   "execution_count": 86,
   "metadata": {},
   "outputs": [
    {
     "name": "stdout",
     "output_type": "stream",
     "text": [
      "Nice Class: 1\n"
     ]
    }
   ],
   "source": [
    "print('Nice Class: {}'.format(subject_clf.predict(['chemical'])[0]))"
   ]
  },
  {
   "cell_type": "code",
   "execution_count": 88,
   "metadata": {
    "collapsed": true
   },
   "outputs": [],
   "source": [
    "BrandsData = json.load(open(r'./Desktop/BrandDataDict.json'))"
   ]
  },
  {
   "cell_type": "code",
   "execution_count": 89,
   "metadata": {
    "collapsed": true
   },
   "outputs": [],
   "source": [
    "def TargetBrandsForNiceClass(Class):\n",
    "    \n",
    "    TargetBrands = []\n",
    "    \n",
    "    for Holder in BrandsData.keys():\n",
    "        for Brand in BrandsData[Holder].keys():\n",
    "            if str(Class) in BrandsData[Holder][Brand][1].split(' | '):\n",
    "                TargetBrands.append((Holder, Brand))\n",
    "                \n",
    "    return TargetBrands"
   ]
  },
  {
   "cell_type": "code",
   "execution_count": 90,
   "metadata": {
    "collapsed": true
   },
   "outputs": [],
   "source": [
    "def ClassifyAndGetBrands(Text):\n",
    "    \n",
    "    NiceClass = subject_clf.predict([Text])[0]\n",
    "    \n",
    "    return TargetBrandsForNiceClass(NiceClass)"
   ]
  },
  {
   "cell_type": "code",
   "execution_count": 94,
   "metadata": {
    "collapsed": true
   },
   "outputs": [],
   "source": [
    "ClassBrands = ClassifyAndGetBrands('pharmaceutical')"
   ]
  },
  {
   "cell_type": "code",
   "execution_count": 95,
   "metadata": {},
   "outputs": [
    {
     "data": {
      "text/plain": [
       "729412"
      ]
     },
     "execution_count": 95,
     "metadata": {},
     "output_type": "execute_result"
    }
   ],
   "source": [
    "len(ClassBrands)"
   ]
  },
  {
   "cell_type": "code",
   "execution_count": 97,
   "metadata": {},
   "outputs": [
    {
     "data": {
      "text/plain": [
       "729412"
      ]
     },
     "execution_count": 97,
     "metadata": {},
     "output_type": "execute_result"
    }
   ],
   "source": [
    "len(TargetBrandsForNiceClass(5))"
   ]
  },
  {
   "cell_type": "code",
   "execution_count": 96,
   "metadata": {},
   "outputs": [
    {
     "data": {
      "text/plain": [
       "5"
      ]
     },
     "execution_count": 96,
     "metadata": {},
     "output_type": "execute_result"
    }
   ],
   "source": [
    "subject_clf.predict(['pharmaceutical'])[0]"
   ]
  },
  {
   "cell_type": "code",
   "execution_count": 101,
   "metadata": {},
   "outputs": [
    {
     "data": {
      "text/plain": [
       "[('PT AMAN ASRI', 'CEVAX'),\n",
       " ('Chr. Hansen A/S', 'LGG Excellence by Chr. Hansen'),\n",
       " ('PBM PRODUCTS ,LLC', 'BRIGHT BEGINNINGS'),\n",
       " ('SAMRUDH PHARMACEUTICALS PVT, LTD', 'STRIAXUL'),\n",
       " ('Công ty trách nhiệm hữu hạn một thành viên dược phẩm và sinh học y tế',\n",
       "  'MEBILIVO'),\n",
       " ('ESPACE COSMETIC SARL', 'AMOUD'),\n",
       " ('Công ty TNHH An Nông', 'FUANNONG'),\n",
       " ('GRACURE PHARMACEUTICALS LTD', 'Magycon'),\n",
       " ('PANACEA BIOTEC LTD.', 'NUCOVAC'),\n",
       " ('Công ty TNHH dược phẩm MEDISUN', 'ZO-ZO'),\n",
       " ('Douglas Pharmaceuticals Ltd', 'Fintral'),\n",
       " ('KREWI Medical Produkte GmbH', 'KREWI - cast'),\n",
       " ('Laboratorios Bagó S.A.', 'TRIFAMOX IBL'),\n",
       " ('ROXALL Medizin GmbH', 'CLUSTO-Scan>>'),\n",
       " ('Etec Crop Solutions Ltd', 'Z C STOPP'),\n",
       " ('Juan Carlos Font i Mas', 'MESOACNE COMPLEX'),\n",
       " ('AL ADHAM DETERGENT FACTORIES', 'PUREST'),\n",
       " ('Công ty TNHH một thành viên dược Nam Anh', 'Furagon'),\n",
       " ('UNION NACIONAL DE GRANDES SUPERFICIES, S.A. U.N.A.G.R.A.S.', 'U'),\n",
       " ('BSN medical GmbH', 'LEUKOSILK')]"
      ]
     },
     "execution_count": 101,
     "metadata": {},
     "output_type": "execute_result"
    }
   ],
   "source": [
    "random.sample(Class1Brands, 20)"
   ]
  },
  {
   "cell_type": "code",
   "execution_count": null,
   "metadata": {
    "collapsed": true
   },
   "outputs": [],
   "source": []
  }
 ],
 "metadata": {
  "anaconda-cloud": {},
  "kernelspec": {
   "display_name": "Python [default]",
   "language": "python",
   "name": "python3"
  },
  "language_info": {
   "codemirror_mode": {
    "name": "ipython",
    "version": 3
   },
   "file_extension": ".py",
   "mimetype": "text/x-python",
   "name": "python",
   "nbconvert_exporter": "python",
   "pygments_lexer": "ipython3",
   "version": "3.5.2"
  }
 },
 "nbformat": 4,
 "nbformat_minor": 2
}
