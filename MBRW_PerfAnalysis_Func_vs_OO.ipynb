{
 "cells": [
  {
   "cell_type": "code",
   "execution_count": null,
   "metadata": {
    "collapsed": true
   },
   "outputs": [],
   "source": [
    "# Performance Analysis of Memory Biased Random Walk (MBRW)\n",
    "# MBRW is implemented in both Functional, mbrw_functional(), and Object Oriented, mbrw_oo(), paradigm.\n",
    "\n",
    "# For further information: Yucel et al., 2016, Detection of network communities with memory-biased random walk algorithms,\n",
    "#                                              Journal of Complex Networks\n",
    "# M. Yucel, Unpublished PhD Thesis, Memory Biased Random Walk As An Empirical Approach to Indetifying Network Communities\n",
    "\n",
    "# Author: Dr. Mesut Yucel - 2016"
   ]
  },
  {
   "cell_type": "code",
   "execution_count": null,
   "metadata": {
    "collapsed": true
   },
   "outputs": [],
   "source": [
    "import pandas as pd\n",
    "import numpy as np\n",
    "import itertools\n",
    "from collections import deque\n",
    "from operator import itemgetter\n",
    "from scipy.special import comb\n",
    "from functools import reduce\n",
    "import time"
   ]
  },
  {
   "cell_type": "code",
   "execution_count": null,
   "metadata": {
    "collapsed": true
   },
   "outputs": [],
   "source": [
    "# Simulation Parameters\n",
    "\n",
    "alpha = 1000\n",
    "memory_size = 5\n",
    "sim_step = 100000"
   ]
  },
  {
   "cell_type": "code",
   "execution_count": null,
   "metadata": {
    "collapsed": true
   },
   "outputs": [],
   "source": [
    "def get_neighbor_data():\n",
    "    \n",
    "    \n",
    "    \n",
    "    # Defining each node as an object with data members of ID and Neighbors...\n",
    "\n",
    "    class Node:\n",
    "\n",
    "        ' The general node class for network nodes. '\n",
    "\n",
    "        def __init__(self, ID, Neighbors):\n",
    "\n",
    "            self.ID = ID\n",
    "            self.Neighbors = Neighbors\n",
    "\n",
    "\n",
    "        def get_id(self):\n",
    "\n",
    "            return self.ID\n",
    "\n",
    "\n",
    "        def get_neighbors(self):\n",
    "\n",
    "            return self.Neighbors\n",
    "\n",
    "    \n",
    "    \n",
    "    # Read binary interaction data as a Binary Interaction Matrix\n",
    "\n",
    "    bin_int_mat = pd.read_csv(r'./desktop/bin_int_mat.csv', dtype=np.uint16)\n",
    "    N = np.max(np.max(bin_int_mat)) + 1\n",
    "\n",
    "    \n",
    "    \n",
    "    # Convert the Binary Interaction Matrix into Node vs. Neighbors dictionary and \n",
    "    # a list of node objects with ID and Neighbors..\n",
    "\n",
    "    neigh_dict = {}\n",
    "    neighbor_objects = []\n",
    "\n",
    "    for node_id in range(N):\n",
    "\n",
    "        neighbor_indices = [bin_int_mat[bin_int_mat[Node] == node_id].index.tolist() for Node in bin_int_mat.columns]\n",
    "        neighbor_indices = list(itertools.chain.from_iterable(neighbor_indices))\n",
    "\n",
    "        neighbors = np.append(bin_int_mat.iloc[neighbor_indices]['Node1'], bin_int_mat.iloc[neighbor_indices]['Node2'])\n",
    "        neighbors = np.setdiff1d(neighbors, node_id)\n",
    "\n",
    "        neigh_dict[node_id] = np.uint16(neighbors)             # For functional program\n",
    "        neighbor_objects.append(Node(node_id, neighbors))      # For object oriented program\n",
    "        \n",
    "    \n",
    "    return {'neigh_dict': neigh_dict, 'neighbor_objects': neighbor_objects, 'N': N}"
   ]
  },
  {
   "cell_type": "code",
   "execution_count": null,
   "metadata": {
    "collapsed": true
   },
   "outputs": [],
   "source": [
    "def mbrw_functional(neigh_dict, N, sim_step):\n",
    "    \n",
    "    \n",
    "    ' Simulation with functional approach. '\n",
    "    \n",
    "    \n",
    "    current_node = np.random.randint(N)\n",
    "    previous_node = N\n",
    "    memorized_sequence = N * np.ones(memory_size)\n",
    "    memorized_sequence[-1] = current_node\n",
    "    traversed_sequence = deque([current_node])\n",
    "\n",
    "    \n",
    "    # Memory Biased Random Walk Simulation\n",
    "\n",
    "    while len(traversed_sequence) < sim_step:\n",
    "\n",
    "        potential_next_nodes = neigh_dict[current_node]\n",
    "        potential_next_nodes = np.setdiff1d(potential_next_nodes, previous_node)     # No reverse back...\n",
    "\n",
    "        biases = np.ones(len(potential_next_nodes))\n",
    "\n",
    "\n",
    "        if current_node in memorized_sequence[:-1]:\n",
    "\n",
    "            biased_indices = np.where(memorized_sequence[:-1] == current_node)\n",
    "            biased_indices = biased_indices[0] + 1\n",
    "            biased_nodes = memorized_sequence[biased_indices]\n",
    "\n",
    "            for node in biased_nodes:\n",
    "                biases[np.where(potential_next_nodes == node)] = alpha\n",
    "\n",
    "\n",
    "\n",
    "        # Choosing the next node with Fitness Proportionate Selection\n",
    "\n",
    "        random_selection = biases.sum() * np.random.rand()\n",
    "        previous_node = current_node\n",
    "        current_node = potential_next_nodes[np.argmax(biases.cumsum() > random_selection)]\n",
    "\n",
    "        traversed_sequence.append(current_node)\n",
    "\n",
    "        memorized_sequence[:-1] = memorized_sequence[1:]\n",
    "        memorized_sequence[-1] = current_node\n",
    "        "
   ]
  },
  {
   "cell_type": "code",
   "execution_count": null,
   "metadata": {
    "collapsed": false
   },
   "outputs": [],
   "source": [
    "def mbrw_oo(neighbor_objects, N, sim_step):\n",
    "    \n",
    "    \n",
    "    ' Simulation with object oriented approach. '\n",
    "    \n",
    "    \n",
    "    current_node = np.random.randint(N)\n",
    "    previous_node = N\n",
    "    memorized_sequence = N * np.ones(memory_size)\n",
    "    memorized_sequence[-1] = current_node\n",
    "    traversed_sequence = deque([current_node])\n",
    "\n",
    "    \n",
    "    # Memory Biased Random Walk Simulation\n",
    "\n",
    "    while len(traversed_sequence) < sim_step:\n",
    "        \n",
    "        potential_next_nodes = (neighbor_objects[current_node]).get_neighbors()\n",
    "        potential_next_nodes = np.setdiff1d(potential_next_nodes, previous_node)     # No reverse back...\n",
    "\n",
    "        biases = np.ones(len(potential_next_nodes))\n",
    "\n",
    "\n",
    "        if current_node in memorized_sequence[:-1]:\n",
    "\n",
    "            biased_indices = np.where(memorized_sequence[:-1] == current_node)\n",
    "            biased_indices = biased_indices[0] + 1\n",
    "            biased_nodes = memorized_sequence[biased_indices]\n",
    "\n",
    "            for node in biased_nodes:\n",
    "                biases[np.where(potential_next_nodes == node)] = alpha\n",
    "\n",
    "\n",
    "\n",
    "        # Choosing the next node with Fitness Proportionate Selection\n",
    "\n",
    "        random_selection = biases.sum() * np.random.rand()\n",
    "        previous_node = current_node\n",
    "        current_node = potential_next_nodes[np.argmax(biases.cumsum() > random_selection)]\n",
    "\n",
    "        traversed_sequence.append(current_node)\n",
    "\n",
    "        memorized_sequence[:-1] = memorized_sequence[1:]\n",
    "        memorized_sequence[-1] = current_node\n"
   ]
  },
  {
   "cell_type": "code",
   "execution_count": null,
   "metadata": {
    "collapsed": false
   },
   "outputs": [],
   "source": [
    "# Performance analysis with %timeit\n",
    "\n",
    "data = get_neighbor_data()"
   ]
  },
  {
   "cell_type": "code",
   "execution_count": null,
   "metadata": {
    "collapsed": false
   },
   "outputs": [],
   "source": [
    "%timeit mbrw_functional(data['neigh_dict'], data['N'], sim_step)"
   ]
  },
  {
   "cell_type": "code",
   "execution_count": null,
   "metadata": {
    "collapsed": false
   },
   "outputs": [],
   "source": [
    "%timeit mbrw_oo(data['neighbor_objects'], data['N'], sim_step)"
   ]
  },
  {
   "cell_type": "code",
   "execution_count": null,
   "metadata": {
    "collapsed": false
   },
   "outputs": [],
   "source": [
    "# Performance analysis with time.time()"
   ]
  },
  {
   "cell_type": "code",
   "execution_count": null,
   "metadata": {
    "collapsed": false
   },
   "outputs": [],
   "source": [
    "t1 = time.time()\n",
    "\n",
    "mbrw_functional(data['neigh_dict'], data['N'], sim_step)\n",
    "\n",
    "print('Elapsed time: ', time.time() - t1, 'seconds.')\n"
   ]
  },
  {
   "cell_type": "code",
   "execution_count": null,
   "metadata": {
    "collapsed": false
   },
   "outputs": [],
   "source": [
    "t1 = time.time()\n",
    "\n",
    "mbrw_oo(data['neighbor_objects'], data['N'], sim_step)\n",
    "\n",
    "print('Elapsed time: ', time.time() - t1, 'seconds.')\n"
   ]
  },
  {
   "cell_type": "code",
   "execution_count": null,
   "metadata": {
    "collapsed": true
   },
   "outputs": [],
   "source": []
  }
 ],
 "metadata": {
  "anaconda-cloud": {},
  "kernelspec": {
   "display_name": "Python [Root]",
   "language": "python",
   "name": "Python [Root]"
  },
  "language_info": {
   "codemirror_mode": {
    "name": "ipython",
    "version": 3
   },
   "file_extension": ".py",
   "mimetype": "text/x-python",
   "name": "python",
   "nbconvert_exporter": "python",
   "pygments_lexer": "ipython3",
   "version": "3.5.1"
  }
 },
 "nbformat": 4,
 "nbformat_minor": 0
}
