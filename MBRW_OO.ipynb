{
 "cells": [
  {
   "cell_type": "code",
   "execution_count": null,
   "metadata": {
    "collapsed": false
   },
   "outputs": [],
   "source": [
    "# Memory Biased Random Walk with Segment Analysis\n",
    "# For Identifying Community-Like Structures in Networks\n",
    "# This is also called Network Clustering\n",
    "\n",
    "# For further information: Yucel et al., 2016, Detection of network communities with memory-biased random walk algorithms,\n",
    "#                                              Journal of Complex Networks\n",
    "# M. Yucel, Unpublished PhD Thesis, Memory Biased Random Walk As An Empirical Approach to Indetifying Network Communities\n",
    "\n",
    "# Author: Dr. Mesut Yucel - 2016\n",
    "\n",
    "# In this implementation, an Object Oriented Design is used for simulating MBRW."
   ]
  },
  {
   "cell_type": "code",
   "execution_count": null,
   "metadata": {
    "collapsed": true
   },
   "outputs": [],
   "source": [
    "import pandas as pd\n",
    "import numpy as np\n",
    "import itertools\n",
    "from collections import deque\n",
    "from operator import itemgetter\n",
    "from scipy.special import comb\n",
    "from functools import reduce"
   ]
  },
  {
   "cell_type": "code",
   "execution_count": null,
   "metadata": {
    "collapsed": true
   },
   "outputs": [],
   "source": [
    "# Defining each node as an object with data members of ID and neighbors...\n",
    "\n",
    "class Node:\n",
    "    \n",
    "    ' The general node class for network nodes. '\n",
    "    \n",
    "    def __init__(self, ID, Neighbors):\n",
    "        \n",
    "        self.ID = ID\n",
    "        self.Neighbors = Neighbors\n",
    "        \n",
    "        \n",
    "    def get_id(self):\n",
    "        \n",
    "        return self.ID\n",
    "    \n",
    "    \n",
    "    def get_neighbors(self):\n",
    "        \n",
    "        return self.Neighbors\n",
    "    "
   ]
  },
  {
   "cell_type": "code",
   "execution_count": null,
   "metadata": {
    "collapsed": false
   },
   "outputs": [],
   "source": [
    "# Read binary interaction data as a Binary Interaction Matrix\n",
    "\n",
    "bin_int_mat = pd.read_csv(r'./desktop/bin_int_mat.csv', dtype=np.uint16)\n",
    "N = np.max(np.max(bin_int_mat)) + 1\n",
    "\n",
    "# Convert the Binary Interaction Matrix into a list of node objects with ID and neighbors..\n",
    "\n",
    "neighbor_objects = []\n",
    "\n",
    "for node_id in range(N):\n",
    "    \n",
    "    neighbor_indices = [bin_int_mat[bin_int_mat[Node] == node_id].index.tolist() for Node in bin_int_mat.columns]\n",
    "    neighbor_indices = list(itertools.chain.from_iterable(neighbor_indices))\n",
    "    \n",
    "    neighbors = np.append(bin_int_mat.iloc[neighbor_indices]['Node1'], bin_int_mat.iloc[neighbor_indices]['Node2'])\n",
    "    neighbors = np.setdiff1d(neighbors, node_id)\n",
    "    \n",
    "    neighbor_objects.append(Node(node_id, neighbors))\n",
    "    \n",
    "    \n",
    "del bin_int_mat"
   ]
  },
  {
   "cell_type": "code",
   "execution_count": null,
   "metadata": {
    "collapsed": false
   },
   "outputs": [],
   "source": [
    "# Simulation Parameters\n",
    "\n",
    "alpha = 1000\n",
    "memory_size = 5\n",
    "circulation_number = 2\n",
    "\n",
    "current_node = np.random.randint(N)\n",
    "previous_node = N\n",
    "memorized_sequence = N * np.ones(memory_size)\n",
    "memorized_sequence[-1] = current_node\n",
    "visited_nodes = np.zeros(N)\n",
    "visited_nodes[current_node] = 1\n",
    "traversed_sequence = deque([current_node])\n",
    "\n",
    "circulation_time = 0"
   ]
  },
  {
   "cell_type": "code",
   "execution_count": null,
   "metadata": {
    "collapsed": false
   },
   "outputs": [],
   "source": [
    "# Memory Biased Random Walk Simulation\n",
    "\n",
    "while circulation_time < circulation_number:\n",
    "    \n",
    "    potential_next_nodes = (neighbor_objects[current_node]).get_neighbors()\n",
    "    potential_next_nodes = np.setdiff1d(potential_next_nodes, previous_node)     # No reverse back...\n",
    "    \n",
    "    biases = np.ones(len(potential_next_nodes))\n",
    "    \n",
    "    \n",
    "    if current_node in memorized_sequence[:-1]:\n",
    "        \n",
    "        biased_indices = np.where(memorized_sequence[:-1] == current_node)\n",
    "        biased_indices = biased_indices[0] + 1\n",
    "        biased_nodes = memorized_sequence[biased_indices]\n",
    "        \n",
    "        for node in biased_nodes:\n",
    "            biases[np.where(potential_next_nodes == node)] = alpha\n",
    "    \n",
    "    \n",
    "    \n",
    "    # Choosing the next node with Fitness Proportionate Selection\n",
    "    \n",
    "    random_selection = biases.sum() * np.random.rand()\n",
    "    previous_node = current_node\n",
    "    current_node = potential_next_nodes[np.argmax(biases.cumsum() > random_selection)]\n",
    "    \n",
    "    visited_nodes[current_node] = 1\n",
    "    traversed_sequence.append(current_node)\n",
    "    \n",
    "    \n",
    "    if visited_nodes.all():\n",
    "        circulation_time += 1\n",
    "        visited_nodes[:] = 0\n",
    "    \n",
    "    \n",
    "    memorized_sequence[:-1] = memorized_sequence[1:]\n",
    "    memorized_sequence[-1] = current_node\n",
    "    \n",
    "\n",
    "sequence_array = np.array(traversed_sequence)\n",
    "\n",
    "del traversed_sequence\n",
    "\n",
    "print('Simulation has been completed...')"
   ]
  },
  {
   "cell_type": "code",
   "execution_count": null,
   "metadata": {
    "collapsed": true
   },
   "outputs": [],
   "source": [
    "# Function definiton for calculating Module Density\n",
    "\n",
    "def module_density(array):\n",
    "    \n",
    "    if len(array) > 1:\n",
    "        max_link_number = comb(len(array), 2)\n",
    "        intra_link_number = 0.0\n",
    "        total_link_number = 0.0\n",
    "        for node in array:\n",
    "            intra_link_number += (np.in1d((neighbor_objects[node]).get_neighbors(), array)).sum()\n",
    "            total_link_number += len((neighbor_objects[node]).get_neighbors())\n",
    "        intra_link_number /= 2\n",
    "        relative_connectivity = intra_link_number / max_link_number\n",
    "        intra_connection_ratio = 2 * intra_link_number / total_link_number\n",
    "    \n",
    "        return relative_connectivity * intra_connection_ratio\n",
    "    else:\n",
    "        return 0"
   ]
  },
  {
   "cell_type": "code",
   "execution_count": null,
   "metadata": {
    "collapsed": false
   },
   "outputs": [],
   "source": [
    "# Modularity Analysis\n",
    "\n",
    "# Stage 1: Overlapping Unique Candidate Communities\n",
    "\n",
    "window_size = N\n",
    "nonunique_modules = [np.unique(sequence_array[start:start + window_size]) \n",
    "                       for start in range(0, len(sequence_array), window_size)]\n",
    "\n",
    "nonunique_modules = np.array(sorted(nonunique_modules, key=itemgetter(0,1,2)))\n",
    "\n",
    "unique_codes = np.array([True] * len(nonunique_modules))\n",
    "\n",
    "for module_ind1 in range(len(nonunique_modules)-1):\n",
    "    \n",
    "    if unique_codes[module_ind1]:\n",
    "        module_1 = nonunique_modules[module_ind1]\n",
    "        module_ind2 = module_ind1 + 1\n",
    "        module_2 = nonunique_modules[module_ind2]\n",
    "        \n",
    "        while np.array_equal(module_1[:3], module_2[:3]) and module_ind2 < len(nonunique_modules) - 1:\n",
    "            \n",
    "            if np.array_equal(module_1, module_2):\n",
    "                unique_codes[module_ind2] = False\n",
    "                \n",
    "            module_ind2 += 1\n",
    "            module_2 = nonunique_modules[module_ind2]\n",
    "            \n",
    "        \n",
    "unique_modules = nonunique_modules[unique_codes]\n",
    "unique_modules = [(0, module) for module in unique_modules]\n",
    "\n",
    "del nonunique_modules"
   ]
  },
  {
   "cell_type": "code",
   "execution_count": null,
   "metadata": {
    "collapsed": false
   },
   "outputs": [],
   "source": [
    "# Stage 2: Non-Overlapping Unique Communities\n",
    "\n",
    "nonoverlapping_modules = []\n",
    "temp_module = np.array([])\n",
    "\n",
    "\n",
    "while True:\n",
    "    \n",
    "    unique_modules = [(module_density(np.setdiff1d(module[1], temp_module)), np.setdiff1d(module[1], temp_module)) \n",
    "                      for module in unique_modules if len(np.setdiff1d(module[1], temp_module)) > 2]\n",
    "   \n",
    "    if unique_modules != []:\n",
    "        \n",
    "        unique_modules = sorted(unique_modules, key=itemgetter(0), reverse=True)\n",
    "        nonoverlapping_modules.append(unique_modules[0])\n",
    "        temp_module = unique_modules[0][1]\n",
    "        del unique_modules[0]\n",
    "    else:\n",
    "        break\n",
    "\n",
    "\n",
    "module_list = [module[1] for module in nonoverlapping_modules]\n",
    "initial_gate_nodes = np.setdiff1d(np.arange(N), reduce(np.union1d, module_list))\n",
    "\n",
    "del nonoverlapping_modules"
   ]
  },
  {
   "cell_type": "code",
   "execution_count": null,
   "metadata": {
    "collapsed": true
   },
   "outputs": [],
   "source": [
    "# Stage 3: Processing Gate Nodes\n",
    "\n",
    "gate_nodes = []\n",
    "\n",
    "for node in initial_gate_nodes:\n",
    "    \n",
    "    gate_node_neighbors = (neighbor_objects[node]).get_neighbors()\n",
    "    link_distribution = [len(np.intersect1d(gate_node_neighbors, module, assume_unique=True)) for module in module_list]\n",
    "    linked_module_indices = np.argwhere(link_distribution == np.amax(link_distribution))\n",
    "    \n",
    "    if len(linked_module_indices) == 1:\n",
    "        \n",
    "        module_list[linked_module_indices[0][0]] = sorted(np.append(module_list[linked_module_indices[0][0]], node))\n",
    "        \n",
    "    else:\n",
    "        gate_nodes.append(node)\n",
    "\n",
    "        \n",
    "module_list = [(module_density(module), module) for module in module_list]\n",
    "module_list = sorted(module_list, key=itemgetter(0), reverse=True)"
   ]
  },
  {
   "cell_type": "code",
   "execution_count": null,
   "metadata": {
    "collapsed": true
   },
   "outputs": [],
   "source": [
    "# Organizing the Results in Module Dictionary\n",
    "\n",
    "modules = {}\n",
    "\n",
    "for module_id, module in enumerate(module_list):\n",
    "    modules[module_id] = {'ModuleDensity': module[0], 'ModuleSize': len(module[1]), 'ModuleNodes': module[1]}\n",
    "\n",
    "\n",
    "# Adding the gate nodes as a separate group\n",
    "\n",
    "modules['GateNodes'] = {'ModuleDensity': module_density(gate_nodes), 'ModuleSize': len(gate_nodes), 'ModuleNodes': gate_nodes}"
   ]
  },
  {
   "cell_type": "code",
   "execution_count": null,
   "metadata": {
    "collapsed": false
   },
   "outputs": [],
   "source": [
    "# Summary Results\n",
    "\n",
    "print('\\n\\nSummary of Network Community Statistics\\n---------------------------------------\\n')\n",
    "print('Number of Modules Identified: ', len(modules) - 1, 'Modules', ' + ', modules['GateNodes']['ModuleSize'], 'Gate Nodes')\n",
    "print('Average Module Density: ', np.array([modules[i]['ModuleDensity'] for i in range(len(modules) - 1)]).mean())\n",
    "print('Average Module Size: ', np.array([modules[i]['ModuleSize'] for i in range(len(modules) - 1)]).mean(), 'Nodes\\n')"
   ]
  },
  {
   "cell_type": "code",
   "execution_count": null,
   "metadata": {
    "collapsed": false
   },
   "outputs": [],
   "source": [
    "# Graphical Output\n",
    "\n",
    "import matplotlib as mpl\n",
    "import matplotlib.pyplot as plt\n",
    "\n",
    "%matplotlib inline"
   ]
  },
  {
   "cell_type": "code",
   "execution_count": null,
   "metadata": {
    "collapsed": false
   },
   "outputs": [],
   "source": [
    "module_densities = [module['ModuleDensity'] for module in modules.values()]\n",
    "plt.figure(figsize=(14,8))\n",
    "plt.plot(range(1, len(modules)+1), module_densities, 'o-', lw=2)\n",
    "plt.xlabel('Module Rank (From Highest Module Density to Lowest)')\n",
    "plt.ylabel('Module Density')\n",
    "plt.xlim([0, len(modules)+1])\n",
    "mpl.rc('font', size=16)\n",
    "plt.grid(True)"
   ]
  },
  {
   "cell_type": "code",
   "execution_count": null,
   "metadata": {
    "collapsed": true
   },
   "outputs": [],
   "source": []
  }
 ],
 "metadata": {
  "anaconda-cloud": {},
  "kernelspec": {
   "display_name": "Python [Root]",
   "language": "python",
   "name": "Python [Root]"
  },
  "language_info": {
   "codemirror_mode": {
    "name": "ipython",
    "version": 3
   },
   "file_extension": ".py",
   "mimetype": "text/x-python",
   "name": "python",
   "nbconvert_exporter": "python",
   "pygments_lexer": "ipython3",
   "version": "3.5.1"
  }
 },
 "nbformat": 4,
 "nbformat_minor": 0
}
