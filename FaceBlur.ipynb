{
 "cells": [
  {
   "cell_type": "code",
   "execution_count": null,
   "metadata": {
    "collapsed": false
   },
   "outputs": [],
   "source": [
    "# Parameter Optimization of OpenCV Face Detection by Haar-Cascade\n",
    "\n",
    "import numpy as np\n",
    "import cv2\n",
    "import glob\n",
    "from PIL import Image\n",
    "import os\n",
    "from math import ceil, radians, sin, cos"
   ]
  },
  {
   "cell_type": "code",
   "execution_count": null,
   "metadata": {
    "collapsed": true
   },
   "outputs": [],
   "source": [
    "# Loading Frontal&Profile Face Classifiers\n",
    "\n",
    "face_cascade1 = cv2.CascadeClassifier(r'.\\opencv\\sources\\data\\haarcascades_GPU\\haarcascade_frontalface_alt.xml')\n",
    "face_cascade2 = cv2.CascadeClassifier(r'.\\opencv\\sources\\data\\haarcascades_GPU\\haarcascade_profileface.xml')"
   ]
  },
  {
   "cell_type": "code",
   "execution_count": null,
   "metadata": {
    "collapsed": true
   },
   "outputs": [],
   "source": [
    "# Extracting Face Center and Radius\n",
    "\n",
    "def face_center_radius(x, y, w, h):\n",
    "    \n",
    "    face_center = x+w/2, y+h/2\n",
    "    face_radius_small = np.mean((w, h))/2\n",
    "    face_radius_big = np.sqrt((w/2)**2 + (h/2)**2)\n",
    "    \n",
    "    return face_center, np.int(np.mean((face_radius_small, face_radius_big)))"
   ]
  },
  {
   "cell_type": "code",
   "execution_count": null,
   "metadata": {
    "collapsed": true
   },
   "outputs": [],
   "source": [
    "# Un-Rotating Face Center\n",
    "\n",
    "def face_original_center(face_center, im_center, angle):\n",
    "    \n",
    "    x_dist = face_center[0] - im_center[0]\n",
    "    y_dist = face_center[1] - im_center[1]\n",
    "    x_new = x_dist*cos(radians(-angle)) + y_dist*sin(radians(-angle)) + im_center[0]\n",
    "    y_new = -x_dist*sin(radians(-angle)) + y_dist*cos(radians(-angle)) + im_center[1]\n",
    "    \n",
    "    return np.int(x_new), np.int(y_new)"
   ]
  },
  {
   "cell_type": "code",
   "execution_count": null,
   "metadata": {
    "collapsed": true
   },
   "outputs": [],
   "source": [
    "# Creating Mask For Rectangular Area\n",
    "\n",
    "def rectangular_blur(final_faces, img_array):\n",
    "    \n",
    "    large_faces = [face for face in final_faces if 2*face[1] > 0.25*min(img_array.shape[:2])]\n",
    "    small_faces = [face for face in final_faces if 2*face[1] <= 0.25*min(img_array.shape[:2])]\n",
    "    \n",
    "    temp_img_array = img_array.copy()\n",
    "    blur_weak = [41, 39, 35, 27]\n",
    "    blur_strong = [81, 75, 69, 63, 57, 49, 41, 33]\n",
    "    percents_weak = np.array([0.5, 0.6, 0.8, 1])\n",
    "    percents_strong = np.array([0.3, 0.4, 0.5, 0.6, 0.7, 0.8, 0.9, 1])\n",
    "            \n",
    "    \n",
    "    masks = [np.zeros(img_array.shape[:2], 'bool') for _ in range(len(percents_weak))]        \n",
    "    for center, radius in small_faces:\n",
    "        rads = (radius * percents_weak).astype(int)\n",
    "        for mask_no, rad in enumerate(rads):\n",
    "            x1 = max(0, center[1]-rad)\n",
    "            y1 = max(0, center[0]-rad)\n",
    "            masks[mask_no][x1:center[1]+rad, y1:center[0]+rad] = True                         \n",
    "    edge_masks = [masks[0]]\n",
    "    for mask_no in range(len(masks)-1):\n",
    "        edge_masks.append(masks[mask_no+1] ^ masks[mask_no])    \n",
    "    for mask, strength in zip(edge_masks, blur_weak):\n",
    "        temp_img_array[mask] = cv2.medianBlur(img_array, strength)[mask]\n",
    "            \n",
    "            \n",
    "    for center, radius in large_faces:\n",
    "        rads = (radius * percents_strong).astype(int)\n",
    "        masks = [np.zeros(img_array.shape[:2], 'bool') for _ in range(len(percents_strong))]\n",
    "        for mask_no, rad in enumerate(rads):\n",
    "            x1 = max(0, center[1]-rad)\n",
    "            y1 = max(0, center[0]-rad)\n",
    "            masks[mask_no][center[1]-rad:center[1]+rad, center[0]-rad:center[0]+rad] = True\n",
    "        edge_masks = [masks[0]]\n",
    "        for mask_no in range(len(masks)-1):\n",
    "            edge_masks.append(masks[mask_no+1] ^ masks[mask_no])    \n",
    "        for mask, strength in zip(edge_masks, blur_strong):\n",
    "            temp_img_array[mask] = cv2.medianBlur(img_array, strength)[mask]\n",
    "    \n",
    "    \n",
    "    return temp_img_array"
   ]
  },
  {
   "cell_type": "code",
   "execution_count": null,
   "metadata": {
    "collapsed": false,
    "scrolled": false
   },
   "outputs": [],
   "source": [
    "# Frontal and Profile Face Detection\n",
    "\n",
    "img_filenames = glob.glob(r'C:/Users/Mesut/Desktop/SourceFile/*.jpg')\n",
    "abs_angle = 30\n",
    "angles = np.linspace(-abs_angle, abs_angle, 5)\n",
    "\n",
    "\n",
    "result_path = r'C:/Users/Mesut/Desktop/TargetFolder' \n",
    "if not os.path.exists(result_path):\n",
    "    os.makedirs(result_path)    \n",
    "    \n",
    "\n",
    "# Algorithmic Parameters\n",
    "\n",
    "fSF, pSF, MN = 1.02, 1.035, 5\n",
    "MN = int(MN)\n",
    "print('FrontalSF: {},  ProfileSF: {},  MinNeighbors: {}'.format(fSF, pSF, MN))\n",
    "print('-'*51)\n",
    "\n",
    "path = r'C:/Users/Mesut/Desktop/TargetFolder/Set' + '-' + str(fSF) + '-' + str(pSF) + '-' + str(MN)\n",
    "os.makedirs(path)\n",
    "\n",
    "\n",
    "for image_number, img_filename in enumerate(img_filenames):\n",
    "\n",
    "    orig_img = Image.open(img_filename)\n",
    "\n",
    "    # Minimal Background Size Condition: img_h**2 + img_w**2 <= bg_h**2\n",
    "    img_w, img_h = orig_img.size\n",
    "    bg_h = np.sqrt(img_h**2 + img_w**2)\n",
    "    bg_w = bg_h * img_w/img_h\n",
    "    bg_h, bg_w = np.int(ceil(bg_h)), np.int(ceil(bg_w))\n",
    "    background = Image.new('RGB', (bg_w, bg_h), (0, 0, 0))\n",
    "    offset = int((bg_w - img_w) / 2), int((bg_h - img_h) / 2)\n",
    "    background.paste(orig_img, offset)\n",
    "    combined_img = np.asarray(background)\n",
    "    del orig_img\n",
    "\n",
    "    # Face Centers and Radiuses\n",
    "    final_faces = []\n",
    "\n",
    "\n",
    "    for angle in angles:\n",
    "\n",
    "        img = np.asarray(background.rotate(angle=angle, expand=False)).copy()\n",
    "        gray = cv2.cvtColor(img, cv2.COLOR_BGR2GRAY)\n",
    "        gray = cv2.equalizeHist(gray)\n",
    "\n",
    "        faces1 = face_cascade1.detectMultiScale(gray, scaleFactor=fSF, minNeighbors=MN, flags=cv2.CASCADE_SCALE_IMAGE, minSize=(30, 30))\n",
    "        faces2 = face_cascade2.detectMultiScale(gray, scaleFactor=pSF, minNeighbors=MN, flags=cv2.CASCADE_SCALE_IMAGE, minSize=(30, 30))\n",
    "        im_center = img.shape[1]/2, img.shape[0]/2\n",
    "\n",
    "\n",
    "\n",
    "        # Frontal Face Analysis\n",
    "        for (x,y,w,h) in faces1:\n",
    "\n",
    "            face_center, face_radius = face_center_radius(x, y, w, h)\n",
    "            if 2*face_radius <= 0.5*img_h:          # Filter 1: 50% Size Threshold\n",
    "                new_center = face_original_center(face_center, im_center, angle)\n",
    "                new_center = new_center[0] - offset[0], new_center[1] - offset[1]\n",
    "                final_faces.append((new_center, face_radius))\n",
    "\n",
    "\n",
    "        # Profile Face Analysis\n",
    "        for (x,y,w,h) in faces2:\n",
    "\n",
    "            face_center, face_radius = face_center_radius(x, y, w, h)\n",
    "            if 2*face_radius <= 0.5*img_h:          # Filter 1: 50% Size Threshold\n",
    "                new_center = face_original_center(face_center, im_center, angle)\n",
    "                new_center = new_center[0] - offset[0], new_center[1] - offset[1]\n",
    "                final_faces.append((new_center, face_radius))\n",
    "\n",
    "    \n",
    "    combined_img = combined_img[offset[1]:offset[1]+img_h, offset[0]:offset[0]+img_w]\n",
    "    combined_img = rectangular_blur(final_faces, combined_img)    \n",
    "    \n",
    "    Image.fromarray(combined_img, 'RGB').save(path + '/Im' + str(image_number+1) + '_' + str(abs_angle) + '.jpg')\n",
    "\n",
    "\n",
    "    print('Image {} has been processed.'.format(image_number+1))\n",
    "\n",
    "    \n",
    "print('--\\\\--'*10)\n",
    "print('Analysis has been completed!')"
   ]
  },
  {
   "cell_type": "code",
   "execution_count": null,
   "metadata": {
    "collapsed": true
   },
   "outputs": [],
   "source": []
  }
 ],
 "metadata": {
  "anaconda-cloud": {},
  "kernelspec": {
   "display_name": "Python [conda root]",
   "language": "python",
   "name": "conda-root-py"
  },
  "language_info": {
   "codemirror_mode": {
    "name": "ipython",
    "version": 3
   },
   "file_extension": ".py",
   "mimetype": "text/x-python",
   "name": "python",
   "nbconvert_exporter": "python",
   "pygments_lexer": "ipython3",
   "version": "3.5.2"
  }
 },
 "nbformat": 4,
 "nbformat_minor": 1
}
