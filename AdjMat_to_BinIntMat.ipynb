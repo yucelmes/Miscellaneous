{
 "cells": [
  {
   "cell_type": "code",
   "execution_count": null,
   "metadata": {
    "collapsed": true
   },
   "outputs": [],
   "source": [
    "# This routine transforms the Adjacency/Connection Matrix (con_mat) representation of a network of size N\n",
    "# into its Binary Interaction Matrix (bin_int_mat) representation.\n",
    " \n",
    "# Author: Dr. Mesut Yucel - 2016"
   ]
  },
  {
   "cell_type": "code",
   "execution_count": null,
   "metadata": {
    "collapsed": true
   },
   "outputs": [],
   "source": [
    "import pandas as pd\n",
    "import numpy as np"
   ]
  },
  {
   "cell_type": "code",
   "execution_count": null,
   "metadata": {
    "collapsed": true
   },
   "outputs": [],
   "source": [
    "con_mat = pd.read_csv(r'./desktop/con_mat.csv', header=None, dtype=np.uint16)\n",
    "\n",
    "N = len(con_mat)\n",
    "number_of_int = np.uint16(con_mat.sum().sum() / 2)\n",
    "bin_int_mat = pd.DataFrame(np.uint16(np.zeros((number_of_int, 2))), columns=['Node1', 'Node2'])"
   ]
  },
  {
   "cell_type": "code",
   "execution_count": null,
   "metadata": {
    "collapsed": false
   },
   "outputs": [],
   "source": [
    "interaction_ind = 0\n",
    "\n",
    "for node_id1 in range(N):\n",
    "    \n",
    "    neighbors = con_mat[node_id1].nonzero()\n",
    "    \n",
    "    for node_id2 in neighbors[0]:\n",
    "        \n",
    "        if node_id2 > node_id1:\n",
    "            bin_int_mat['Node1'][interaction_ind] = np.uint16(node_id1)\n",
    "            bin_int_mat['Node2'][interaction_ind] = np.uint16(node_id2)\n",
    "            interaction_ind += 1"
   ]
  },
  {
   "cell_type": "code",
   "execution_count": null,
   "metadata": {
    "collapsed": false
   },
   "outputs": [],
   "source": [
    "bin_int_mat.to_csv(r'./desktop/bin_int_mat.csv', index=False)"
   ]
  },
  {
   "cell_type": "code",
   "execution_count": null,
   "metadata": {
    "collapsed": true
   },
   "outputs": [],
   "source": []
  }
 ],
 "metadata": {
  "anaconda-cloud": {},
  "kernelspec": {
   "display_name": "Python [Root]",
   "language": "python",
   "name": "Python [Root]"
  },
  "language_info": {
   "codemirror_mode": {
    "name": "ipython",
    "version": 3
   },
   "file_extension": ".py",
   "mimetype": "text/x-python",
   "name": "python",
   "nbconvert_exporter": "python",
   "pygments_lexer": "ipython3",
   "version": "3.5.1"
  }
 },
 "nbformat": 4,
 "nbformat_minor": 0
}
