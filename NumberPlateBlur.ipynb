{
 "cells": [
  {
   "cell_type": "code",
   "execution_count": null,
   "metadata": {
    "collapsed": false
   },
   "outputs": [],
   "source": [
    "import collections\n",
    "import itertools\n",
    "import glob\n",
    "import math\n",
    "import os\n",
    "\n",
    "import cv2\n",
    "import numpy\n",
    "import tensorflow as tf\n",
    "\n",
    "import common\n",
    "import model"
   ]
  },
  {
   "cell_type": "code",
   "execution_count": null,
   "metadata": {
    "collapsed": true
   },
   "outputs": [],
   "source": [
    "def make_scaled_ims(im, min_shape):\n",
    "    ratio = 1. / 2 ** 0.5\n",
    "    shape = (im.shape[0], im.shape[1])\n",
    "\n",
    "    while True:\n",
    "        shape = (int(shape[0] * ratio), int(shape[1] * ratio))\n",
    "        if shape[0] < min_shape[0] or shape[1] < min_shape[1]:\n",
    "            break\n",
    "        yield cv2.resize(im, (shape[1], shape[0]))"
   ]
  },
  {
   "cell_type": "code",
   "execution_count": null,
   "metadata": {
    "collapsed": true
   },
   "outputs": [],
   "source": [
    "def detect(im, param_vals):\n",
    "    \"\"\"\n",
    "    Detect number plates in an image.\n",
    "\n",
    "    :param im:\n",
    "        Image to detect number plates in.\n",
    "\n",
    "    :param param_vals:\n",
    "        Model parameters to use. These are the parameters output by the `train`\n",
    "        module.\n",
    "\n",
    "    :returns:\n",
    "        Iterable of `bbox_tl, bbox_br, letter_probs`, defining the bounding box\n",
    "        top-left and bottom-right corners respectively, and a 7,36 matrix\n",
    "        giving the probability distributions of each letter.\n",
    "\n",
    "    \"\"\"\n",
    "    \n",
    "    # Convert the image to various scales.\n",
    "    scaled_ims = list(make_scaled_ims(im, model.WINDOW_SHAPE))\n",
    "    \n",
    "    # Load the model which detects number plates over a sliding window.\n",
    "    x, y, params = model.get_detect_model()\n",
    "    \n",
    "    # Execute the model at each scale.\n",
    "    with tf.Session(config=tf.ConfigProto()) as sess:\n",
    "        y_vals = []\n",
    "        for scaled_im in scaled_ims:\n",
    "            feed_dict = {x: numpy.stack([scaled_im])}\n",
    "            feed_dict.update(dict(zip(params, param_vals)))\n",
    "            y_vals.append(sess.run(y, feed_dict=feed_dict))\n",
    "    \n",
    "    # Interpret the results in terms of bounding boxes in the input image.\n",
    "    # Do this by identifying windows (at all scales) where the model predicts a\n",
    "    # number plate has a greater than 50% probability of appearing.\n",
    "    #\n",
    "    # To obtain pixel coordinates, the window coordinates are scaled according\n",
    "    # to the stride size, and pixel coordinates.\n",
    "    \n",
    "    for i, (scaled_im, y_val) in enumerate(zip(scaled_ims, y_vals)):\n",
    "        \n",
    "        for window_coords in numpy.argwhere(y_val[0, :, :, 0] > -math.log(1./0.60 - 1)):   #### 0.99 -> 0.9 ###\n",
    "            \n",
    "            letter_probs = (y_val[0,\n",
    "                                  window_coords[0],\n",
    "                                  window_coords[1], 1:].reshape(\n",
    "                                    7, len(common.CHARS)))\n",
    "            letter_probs = common.softmax(letter_probs)\n",
    "\n",
    "            img_scale = float(im.shape[0]) / scaled_im.shape[0]\n",
    "\n",
    "            bbox_tl = window_coords * (8, 4) * img_scale\n",
    "            bbox_size = numpy.array(model.WINDOW_SHAPE) * img_scale\n",
    "\n",
    "            present_prob = common.sigmoid(\n",
    "                               y_val[0, window_coords[0], window_coords[1], 0])\n",
    "            \n",
    "            yield bbox_tl, bbox_tl + bbox_size, present_prob, letter_probs"
   ]
  },
  {
   "cell_type": "code",
   "execution_count": null,
   "metadata": {
    "collapsed": true
   },
   "outputs": [],
   "source": [
    "def _overlaps(match1, match2):\n",
    "    bbox_tl1, bbox_br1, _, _ = match1\n",
    "    bbox_tl2, bbox_br2, _, _ = match2\n",
    "    return (bbox_br1[0] > bbox_tl2[0] and\n",
    "            bbox_br2[0] > bbox_tl1[0] and\n",
    "            bbox_br1[1] > bbox_tl2[1] and\n",
    "            bbox_br2[1] > bbox_tl1[1])"
   ]
  },
  {
   "cell_type": "code",
   "execution_count": null,
   "metadata": {
    "collapsed": true
   },
   "outputs": [],
   "source": [
    "def _group_overlapping_rectangles(matches):\n",
    "    matches = list(matches)\n",
    "    num_groups = 0\n",
    "    match_to_group = {}\n",
    "    for idx1 in range(len(matches)):\n",
    "        for idx2 in range(idx1):\n",
    "            if _overlaps(matches[idx1], matches[idx2]):\n",
    "                match_to_group[idx1] = match_to_group[idx2]\n",
    "                break\n",
    "        else:\n",
    "            match_to_group[idx1] = num_groups \n",
    "            num_groups += 1\n",
    "\n",
    "    groups = collections.defaultdict(list)\n",
    "    for idx, group in match_to_group.items():\n",
    "        groups[group].append(matches[idx])\n",
    "\n",
    "    return groups"
   ]
  },
  {
   "cell_type": "code",
   "execution_count": null,
   "metadata": {
    "collapsed": true
   },
   "outputs": [],
   "source": [
    "def post_process(matches):\n",
    "    \"\"\"\n",
    "    Take an iterable of matches as returned by `detect` and merge duplicates.\n",
    "\n",
    "    Merging consists of two steps:\n",
    "      - Finding sets of overlapping rectangles.\n",
    "      - Finding the intersection of those sets, along with the code\n",
    "        corresponding with the rectangle with the highest presence parameter.\n",
    "\n",
    "    \"\"\"\n",
    "    groups = _group_overlapping_rectangles(matches)\n",
    "\n",
    "    for group_matches in groups.values():\n",
    "        mins = numpy.stack(numpy.array(m[0]) for m in group_matches)\n",
    "        maxs = numpy.stack(numpy.array(m[1]) for m in group_matches)\n",
    "        present_probs = numpy.array([m[2] for m in group_matches])\n",
    "        letter_probs = numpy.stack(m[3] for m in group_matches)\n",
    "\n",
    "        yield (numpy.max(mins, axis=0).flatten(),\n",
    "               numpy.min(maxs, axis=0).flatten(),\n",
    "               numpy.max(present_probs),\n",
    "               letter_probs[numpy.argmax(present_probs)])"
   ]
  },
  {
   "cell_type": "code",
   "execution_count": null,
   "metadata": {
    "collapsed": true
   },
   "outputs": [],
   "source": [
    "def letter_probs_to_code(letter_probs):\n",
    "    return \"\".join(common.CHARS[i] for i in numpy.argmax(letter_probs, axis=1))"
   ]
  },
  {
   "cell_type": "code",
   "execution_count": null,
   "metadata": {
    "collapsed": true
   },
   "outputs": [],
   "source": [
    "# Creating Mask For Rectangular Area\n",
    "\n",
    "def rectangular_blur(final_plates, img_array):\n",
    "    \n",
    "    blur_strength = [17, 21, 25, 31, 39]\n",
    "    percents = [0.1, 0.2, 0.3, 0.4]\n",
    "    \n",
    "    for x_range, y_range in final_plates:\n",
    "        \n",
    "        x_ranges = [x_range]\n",
    "        y_ranges = [y_range]\n",
    "        \n",
    "        # Outer Frames\n",
    "        for percent in percents:\n",
    "            \n",
    "            x_length = int(percent*(x_range[1]-x_range[0]))\n",
    "            y_length = int(percent*(y_range[1]-y_range[0]))\n",
    "            \n",
    "            x_ranges.append((x_range[0]+x_length, x_range[1]-x_length))\n",
    "            y_ranges.append((y_range[0]+y_length, y_range[1]-y_length))\n",
    "            \n",
    "             \n",
    "        for x, y, strength in zip(x_ranges, y_ranges, blur_strength):\n",
    "            \n",
    "            plate_part = img_array[y[0]:y[1], x[0]:x[1]]\n",
    "            plate_part = cv2.medianBlur(plate_part, strength)\n",
    "            \n",
    "            img_array[y[0]:y[0]+plate_part.shape[0], x[0]:x[0]+plate_part.shape[1]] = plate_part\n",
    "        \n",
    "                    \n",
    "    return img_array"
   ]
  },
  {
   "cell_type": "code",
   "execution_count": null,
   "metadata": {
    "collapsed": false,
    "scrolled": false
   },
   "outputs": [],
   "source": [
    "img_filenames = glob.iglob(r'C:/Users/Mesut/Desktop/NPSample/*.jpg')\n",
    "\n",
    "result_path = r'C:/Users/Mesut/Desktop/TargetFolder' \n",
    "if not os.path.exists(result_path):\n",
    "    os.makedirs(result_path) \n",
    "new_filename = result_path + '/' \n",
    "\n",
    "f = numpy.load(r'.\\weights100.npz')\n",
    "param_vals = [f[n] for n in sorted(f.files, key=lambda s: int(s[4:]))]\n",
    "\n",
    "lower_y = numpy.array([0, 50, 70], dtype='uint8')\n",
    "upper_y = numpy.array([80, 190, 200], dtype='uint8')\n",
    "lower_w = numpy.array([70, 70, 60], dtype='uint8')\n",
    "upper_w = numpy.array([255, 255, 255], dtype='uint8')\n",
    "\n",
    "\n",
    "for img_number, img_filename in enumerate(img_filenames):\n",
    "    \n",
    "    im = cv2.imread(img_filename)\n",
    "    \n",
    "    mask_y = cv2.inRange(im, lower_y, upper_y)\n",
    "    im_y = cv2.bitwise_and(im, im, mask=mask_y)   \n",
    "    mask_w = cv2.inRange(im, lower_w, upper_w)\n",
    "    im_w = cv2.bitwise_and(im, im, mask=mask_w)\n",
    "    ims = [im, im_y, im_w]\n",
    "    final_plates = []\n",
    "\n",
    "    \n",
    "    for img in ims:\n",
    "    \n",
    "        im_gray = cv2.cvtColor(img, cv2.COLOR_BGR2GRAY) / 255.\n",
    "        \n",
    "        for pt1, pt2, present_prob, letter_probs in post_process(detect(im_gray, param_vals)):\n",
    "            \n",
    "            x_length = abs(pt2[0]-pt1[0])\n",
    "            y_length = abs(pt2[1]-pt1[1])\n",
    "            \n",
    "            if (35<x_length<750) & (35<y_length<750):\n",
    "                \n",
    "                pt1 = tuple(reversed(list(map(int, pt1))))\n",
    "                pt2 = tuple(reversed(list(map(int, pt2))))\n",
    "                             \n",
    "                x_range = [pt1[0], pt2[0]]; x_range.sort()\n",
    "                y_range = [pt1[1], pt2[1]]; y_range.sort()\n",
    "                \n",
    "                final_plates.append((x_range, y_range))\n",
    "                   \n",
    "        \n",
    "    im = rectangular_blur(final_plates, im)\n",
    "    cv2.imwrite(new_filename + str(img_number) + '.jpg', im)\n",
    "    \n",
    "    print('Image {} has been processed.'.format(img_number+1))"
   ]
  },
  {
   "cell_type": "code",
   "execution_count": null,
   "metadata": {
    "collapsed": true
   },
   "outputs": [],
   "source": []
  }
 ],
 "metadata": {
  "anaconda-cloud": {},
  "kernelspec": {
   "display_name": "Python [default]",
   "language": "python",
   "name": "python3"
  },
  "language_info": {
   "codemirror_mode": {
    "name": "ipython",
    "version": 3
   },
   "file_extension": ".py",
   "mimetype": "text/x-python",
   "name": "python",
   "nbconvert_exporter": "python",
   "pygments_lexer": "ipython3",
   "version": "3.5.2"
  }
 },
 "nbformat": 4,
 "nbformat_minor": 1
}
